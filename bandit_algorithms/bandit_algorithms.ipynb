{
  "cells": [
    {
      "cell_type": "markdown",
      "metadata": {
        "id": "QtnIfO-hbEDK"
      },
      "source": [
        "## Background\n",
        "This project will implement bandit algorithms.\n",
        "Here, tasks entails the implementation and comparison of various algorithms for sampling the actions of a stochastic multi-actioned bandit. Each action yields rewards independently and identically distributed (i.i.d.) from a predetermined Bernoulli distribution. The objective is to maximize cumulative reward (or minimizing regret), a measure of the opportunity cost incurred by selecting suboptimal actions over the course of the bandit process."
      ]
    },
    {
      "cell_type": "code",
      "execution_count": null,
      "metadata": {
        "id": "jA1amsE9bEDK"
      },
      "outputs": [],
      "source": [
        "# Fixing random seed for reproducibility\n",
        "import matplotlib.pyplot as plt\n",
        "import numpy as np\n",
        "randomSeed = 123\n",
        "np.random.seed(randomSeed)"
      ]
    },
    {
      "cell_type": "code",
      "execution_count": null,
      "metadata": {
        "colab": {
          "base_uri": "https://localhost:8080/"
        },
        "id": "UXKPQ3J_bEDM",
        "outputId": "77af399e-fca0-4db3-9908-afc25032f808"
      },
      "outputs": [
        {
          "name": "stdout",
          "output_type": "stream",
          "text": [
            "Reward distributions\n",
            "[0.00862925 0.03242344 0.22020359 0.10769649 0.03991645]\n",
            "\n",
            "Random rewards for first distribution\n",
            "[0, 0, 0, 0, 0, 0, 0, 0, 0, 0, 0, 0, 0, 0, 0, 0, 0, 0, 0, 0]\n"
          ]
        }
      ],
      "source": [
        "class BernoulliBanditEnvironment():\n",
        "  def __init__(self, n_actions = 25):\n",
        "\n",
        "    self.n_actions = n_actions\n",
        "    self.actions_probs = np.random.beta(1,2,n_actions)\n",
        "\n",
        "  def get_reward(self, action_index):\n",
        "    rew = np.random.binomial(1, self.actions_probs[action_index])\n",
        "    return rew\n",
        "\n",
        "\n",
        "  def simulate_step(self, agent):\n",
        "    action_index = agent.select_action()\n",
        "    reward = self.get_reward(action_index)\n",
        "    agent.update(action_index, reward)\n",
        "    return action_index, reward\n",
        "\n",
        "  def simulate(self, agent, n_steps, verbosity=1):\n",
        "    cum_reward = 0\n",
        "    for i in range(n_steps):\n",
        "      action_index, reward = self.simulate_step(agent)\n",
        "      cum_reward += reward\n",
        "      if verbosity >= 1:\n",
        "        print(\n",
        "          f'Step = {i+1:02d}, '\n",
        "          f'Action = {action_index:d}, '\n",
        "          f'Reward = {reward:.0f}, '\n",
        "          f'Cum reward = {cum_reward:.0f}, '\n",
        "          f'Avg reward = {cum_reward/(i+1):.2f}, '\n",
        "        )\n",
        "    return cum_reward\n",
        "\n",
        "np.random.seed(randomSeed)\n",
        "env = BernoulliBanditEnvironment(5)\n",
        "print('Reward distributions')\n",
        "print(env.actions_probs)\n",
        "print('\\nRandom rewards for first distribution')\n",
        "print([env.get_reward(0) for i in range(20)])"
      ]
    },
    {
      "cell_type": "code",
      "execution_count": null,
      "metadata": {
        "colab": {
          "base_uri": "https://localhost:8080/"
        },
        "id": "1SSU8-GebEDN",
        "outputId": "3e2f4f85-f68b-43ed-f10e-3f34d1287700"
      },
      "outputs": [
        {
          "name": "stdout",
          "output_type": "stream",
          "text": [
            "Reward distributions\n",
            "[0.00862925 0.03242344 0.22020359 0.10769649 0.03991645]\n",
            "Step = 01, Action = 2, Reward = 0, Cum reward = 0, Avg reward = 0.00, \n",
            "Step = 02, Action = 2, Reward = 1, Cum reward = 1, Avg reward = 0.50, \n",
            "Step = 03, Action = 2, Reward = 1, Cum reward = 2, Avg reward = 0.67, \n",
            "Step = 04, Action = 2, Reward = 0, Cum reward = 2, Avg reward = 0.50, \n",
            "Step = 05, Action = 2, Reward = 1, Cum reward = 3, Avg reward = 0.60, \n",
            "Step = 06, Action = 2, Reward = 1, Cum reward = 4, Avg reward = 0.67, \n",
            "Step = 07, Action = 2, Reward = 0, Cum reward = 4, Avg reward = 0.57, \n",
            "Step = 08, Action = 2, Reward = 0, Cum reward = 4, Avg reward = 0.50, \n",
            "Step = 09, Action = 2, Reward = 0, Cum reward = 4, Avg reward = 0.44, \n",
            "Step = 10, Action = 2, Reward = 0, Cum reward = 4, Avg reward = 0.40, \n",
            "Step = 11, Action = 2, Reward = 0, Cum reward = 4, Avg reward = 0.36, \n",
            "Step = 12, Action = 2, Reward = 1, Cum reward = 5, Avg reward = 0.42, \n",
            "Step = 13, Action = 2, Reward = 0, Cum reward = 5, Avg reward = 0.38, \n",
            "Step = 14, Action = 2, Reward = 0, Cum reward = 5, Avg reward = 0.36, \n",
            "Step = 15, Action = 2, Reward = 0, Cum reward = 5, Avg reward = 0.33, \n",
            "Step = 16, Action = 2, Reward = 0, Cum reward = 5, Avg reward = 0.31, \n",
            "Step = 17, Action = 2, Reward = 1, Cum reward = 6, Avg reward = 0.35, \n",
            "Step = 18, Action = 2, Reward = 0, Cum reward = 6, Avg reward = 0.33, \n",
            "Step = 19, Action = 2, Reward = 0, Cum reward = 6, Avg reward = 0.32, \n",
            "Step = 20, Action = 2, Reward = 0, Cum reward = 6, Avg reward = 0.30, \n"
          ]
        },
        {
          "data": {
            "text/plain": [
              "6"
            ]
          },
          "execution_count": 3,
          "metadata": {},
          "output_type": "execute_result"
        }
      ],
      "source": [
        "class OracleAgent:\n",
        "  def __init__(self, env):\n",
        "    self.optimal_action = np.argmax(env.actions_probs)\n",
        "\n",
        "  def select_action(self):\n",
        "    return self.optimal_action\n",
        "\n",
        "  def update(self, action_index, reward):\n",
        "    return self\n",
        "\n",
        "  def __str__(self):\n",
        "    return 'Oracle (best acheivable)'\n",
        "\n",
        "np.random.seed(randomSeed)\n",
        "env = BernoulliBanditEnvironment(5)\n",
        "print('Reward distributions')\n",
        "print(env.actions_probs)\n",
        "oracle = OracleAgent(env)\n",
        "env.simulate(oracle, n_steps=20, verbosity=1)"
      ]
    },
    {
      "cell_type": "code",
      "execution_count": null,
      "metadata": {
        "colab": {
          "base_uri": "https://localhost:8080/"
        },
        "id": "hs26SfjlbEDN",
        "outputId": "02d53c02-9fba-4b77-aa42-c15d5c96edb5"
      },
      "outputs": [
        {
          "name": "stdout",
          "output_type": "stream",
          "text": [
            "Reward distributions\n",
            ": [0.00862925 0.03242344 0.22020359 0.10769649 0.03991645]\n"
          ]
        },
        {
          "data": {
            "text/plain": [
              "0"
            ]
          },
          "execution_count": 4,
          "metadata": {},
          "output_type": "execute_result"
        }
      ],
      "source": [
        "class EpsilonGreedyAgent:\n",
        "    def __init__(self, n_actions, epsilon, init_value=0):\n",
        "        self.n_actions = n_actions\n",
        "        self.init_value = init_value\n",
        "        self.action_counts = np.zeros(n_actions)\n",
        "        self.action_value_func = init_value * np.ones(n_actions)  #Q_t\n",
        "        self.epsilon = epsilon\n",
        "\n",
        "\n",
        "    def select_action(self):\n",
        "        if np.random.rand() < self.epsilon:\n",
        "          return np.random.randint(0, self.n_actions)\n",
        "        else:\n",
        "          return np.argmax(self.action_value_func)\n",
        "\n",
        "    def update(self, action_index, reward):\n",
        "        action_count = self.action_counts[action_index]\n",
        "        sum_rewards = action_count * self.action_value_func[action_index]\n",
        "        new_avg_reward = (sum_rewards + reward) / (action_count + 1)\n",
        "\n",
        "        self.action_counts[action_index] += 1\n",
        "        self.action_value_func[action_index] = new_avg_reward\n",
        "        return self\n",
        "\n",
        "    def __str__(self):\n",
        "        return f'$\\epsilon$-Greedy($\\epsilon={self.epsilon:.2f}$)'\n",
        "\n",
        "# Try init_value = 0, 1 or 100\n",
        "np.random.seed(randomSeed)\n",
        "env = BernoulliBanditEnvironment(5)\n",
        "print(f'Reward distributions\\n: {env.actions_probs}')\n",
        "epsilon_greedy = EpsilonGreedyAgent(len(env.actions_probs), epsilon=0.2)\n",
        "env.simulate(epsilon_greedy, n_steps=20, verbosity=0)"
      ]
    },
    {
      "cell_type": "markdown",
      "metadata": {
        "id": "6utT8VcXbEDN"
      },
      "source": [
        "## 1 - Implement UCB Algorithm Agent\n",
        "\n",
        "The Upper Confidence Bound (UCB) is used in multi-armed bandit problems to balance the trade-off between exploration and exploitation. While the $\\epsilon$-greedy algorithm selects actions randomly with a fixed probability, UCB takes a more sophisticated approach by incorporating uncertainty estimates into its action (also known as an arm in Bandit setup) selection strategy. It calculates an upper confidence bound for each action's value estimate, which represents the upper limit of the range within which the true value of the arm is likely to lie. By choosing the arm with the highest upper confidence bound, UCB aims to strike a balance between exploiting arms with high estimated values and exploring arms with high uncertainty. This makes UCB particularly effective in scenarios where the reward distributions of the arms are complex and uncertain.\n",
        "\n",
        "More specifically, let $t$ denote the current timestep/round, let $\\hat{v}_{i,t}$ denote the average reward for action $i$ at time $t$ (i.e., `action_value_func`), and let $n_{i,t}$ denote the number of times action $i$ has been taken up to time $t$. If one is computing a $(1-\\delta)$ confidence interval around the estimate $\\hat{v}_{i,t}$, then the upper part of this confidence interval for action $i$ would be at:\n",
        "\n",
        "$$ U_{i,t}^{(\\delta)} = \\hat{v}_{i,t} + \\sqrt{\\frac{\\log(\\frac{1}{\\delta})}{2 n_{i,t}}} .$$\n",
        "\n",
        "Notice how the confidence interval shrinks as as $1/\\sqrt{n_{i,t}}$, i.e., as $n_{i,t}\\to \\infty$, the bound will get closer and closer to $\\hat{v}_{i,t}$. The more samples from this arm, the tighter the confidence interval.\n",
        "Furthermore, note that the a $(1-\\delta)$ confidence interval means that there is a $\\delta$ chance of being outside this confidence interval. As time progresses, i.e., $t\\to \\infty$, we would want $\\delta \\to 0$ so that there is a diminishingly small chance of being outside the interval.\n",
        "\n",
        "Thus, the UCB algorithm sets $\\delta = \\frac{1}{t^\\alpha}$, where $\\alpha$ is a hyperparameter that may be set but is usually set a little larger than 1. The paper below suggests a good default to be $\\alpha=2$ but we will use $\\alpha=4$:\n",
        "\n",
        "$$ U_{i,t} = \\hat{v}_{i,t} + \\sqrt{\\frac{\\alpha \\log t}{2 n_{i,t}}}.$$\n",
        "\n",
        "Given this upper bound, the UCB algorithm always selects the action with the highest $U_{i,t}$ value. Thus, the algorithm can just keep track of $U_{i,t}$ and take the max instead of the greedy algorithm that just selects the max of $\\hat{v}_{i,t}$ directly."
      ]
    },
    {
      "cell_type": "code",
      "execution_count": null,
      "metadata": {
        "colab": {
          "base_uri": "https://localhost:8080/"
        },
        "id": "qX8BuxnCbEDO",
        "outputId": "8b1ec290-d204-4904-ae95-cea0fcf25285"
      },
      "outputs": [
        {
          "name": "stdout",
          "output_type": "stream",
          "text": [
            "Reward distributions\n",
            ": [0.00862925 0.03242344 0.22020359 0.10769649 0.03991645 0.40185367\n",
            " 0.3472172  0.41848837 0.77318202 0.33280157]\n",
            "Step = 01, Action = 0, Reward = 0, Cum reward = 0, Avg reward = 0.00, \n",
            "Step = 02, Action = 1, Reward = 0, Cum reward = 0, Avg reward = 0.00, \n",
            "Step = 03, Action = 2, Reward = 1, Cum reward = 1, Avg reward = 0.33, \n",
            "Step = 04, Action = 3, Reward = 0, Cum reward = 1, Avg reward = 0.25, \n",
            "Step = 05, Action = 4, Reward = 0, Cum reward = 1, Avg reward = 0.20, \n",
            "Step = 06, Action = 5, Reward = 0, Cum reward = 1, Avg reward = 0.17, \n",
            "Step = 07, Action = 6, Reward = 0, Cum reward = 1, Avg reward = 0.14, \n",
            "Step = 08, Action = 7, Reward = 1, Cum reward = 2, Avg reward = 0.25, \n",
            "Step = 09, Action = 8, Reward = 1, Cum reward = 3, Avg reward = 0.33, \n",
            "Step = 10, Action = 9, Reward = 0, Cum reward = 3, Avg reward = 0.30, \n",
            "Step = 11, Action = 2, Reward = 0, Cum reward = 3, Avg reward = 0.27, \n",
            "Step = 12, Action = 7, Reward = 0, Cum reward = 3, Avg reward = 0.25, \n",
            "Step = 13, Action = 8, Reward = 1, Cum reward = 4, Avg reward = 0.31, \n",
            "Step = 14, Action = 8, Reward = 1, Cum reward = 5, Avg reward = 0.36, \n",
            "Step = 15, Action = 8, Reward = 0, Cum reward = 5, Avg reward = 0.33, \n",
            "Step = 16, Action = 0, Reward = 0, Cum reward = 5, Avg reward = 0.31, \n",
            "Step = 17, Action = 1, Reward = 0, Cum reward = 5, Avg reward = 0.29, \n",
            "Step = 18, Action = 3, Reward = 0, Cum reward = 5, Avg reward = 0.28, \n",
            "Step = 19, Action = 4, Reward = 0, Cum reward = 5, Avg reward = 0.26, \n",
            "Step = 20, Action = 5, Reward = 1, Cum reward = 6, Avg reward = 0.30, \n"
          ]
        },
        {
          "data": {
            "text/plain": [
              "6"
            ]
          },
          "execution_count": 5,
          "metadata": {},
          "output_type": "execute_result"
        }
      ],
      "source": [
        "np.random.seed(randomSeed)\n",
        "\n",
        "class UCBAgent(EpsilonGreedyAgent):\n",
        "    def __init__(self, n_actions):\n",
        "        self.n_actions = n_actions\n",
        "        # self.init_value = init_value\n",
        "        self.action_counts = np.zeros(n_actions)\n",
        "        self.action_value_func = np.zeros(n_actions)\n",
        "        self.ucb_values = np.zeros(n_actions)\n",
        "\n",
        "    def select_action(self):\n",
        "        total_pulls = sum(self.action_counts)\n",
        "        # Pull each arm once at initialization\n",
        "        for i in range(self.n_actions):\n",
        "          if self.action_counts[i] == 0:\n",
        "            return i\n",
        "          else:\n",
        "            self.ucb_values[i] = self.action_value_func[i] + np.sqrt(2*np.log(total_pulls)/self.action_counts[i])\n",
        "        selected_arm = np.argmax(self.ucb_values)\n",
        "        return selected_arm\n",
        "\n",
        "\n",
        "    def __str__(self):\n",
        "        return f'UCB'\n",
        "\n",
        "np.random.seed(randomSeed)\n",
        "env = BernoulliBanditEnvironment(10)\n",
        "print(f'Reward distributions\\n: {env.actions_probs}')\n",
        "UCB = UCBAgent(len(env.actions_probs))\n",
        "env.simulate(UCB, n_steps=20, verbosity=1)"
      ]
    },
    {
      "cell_type": "markdown",
      "metadata": {
        "id": "GeQ1LlJebEDO"
      },
      "source": [
        "## 2 - Implement KL-UCB Algorithm Agent\n",
        "\n",
        "The KL-UCB (Kullback-Leibler Upper Confidence Bound) algorithm is another strategy for solving the multi-armed bandit problem.\n",
        "\n",
        "Unlike the standard UCB algorithm, which uses confidence intervals based on the mean reward estimate and exploration term, KL-UCB employs confidence intervals derived from the Kullback-Leibler (KL) divergence between the empirical distribution of rewards for each arm and a reference distribution.\n",
        "KL-UCB determines a tighter upper bound than UCB but requires solving a 1D optimization problem.\n",
        "Other than computing the upper bound, the algorithm is the same as UCB.\n",
        "\n",
        "First, we need to remember the KL divergence between two Bernoulli distributions with probabilities $p$ and $q$, respectively. The KL divergence $D_{\\mathrm{KL}}$ for these Bernoulli distributions can be defined as follows:\n",
        "\n",
        "$$ D_\\mathrm{KL}(p, q) = p \\log \\frac{p}{q} + (1 - p) \\log \\frac{1 - p}{1 - q} .$$\n",
        "\n",
        "The KL-UCB upper bound is defined as a maximization problem for finding the largest probability such that an particular inequality is satisfied:\n",
        "\n",
        "$$ U_{i,t} = \\max \\left\\{ p \\in [0,1] : D_\\mathrm{KL}(\\hat{v}_{i,t}, p) \\leq \\frac{\\log(t) + c \\log(\\log(t))}{n_{i,t}} \\right\\} $$\n",
        "\n",
        "Or this can equivalently be written as:\n",
        "\n",
        "$$ U_{i,t} = \\arg\\max_{p \\in [0,1]} p \\quad \\text{s.t.}\\quad D_\\mathrm{KL}(\\hat{v}_{i,t}, p) \\leq \\frac{\\log(t) + c \\log(\\log(t))}{n_{i,t}} $$\n"
      ]
    },
    {
      "cell_type": "markdown",
      "metadata": {
        "id": "wqfC6MGmbEDP"
      },
      "source": [
        "To solve this problem, we can find the point between $\\hat{v}_{i,t}$ and $1$ where the KL divergence is equal to the constraint. Because KL divergence is convex (when the first input is fixed), then searching for equality of the constraint between in the bounded region of $[\\hat{v}_{i,t}, 1]$ will ensure that we solve this upper bound problem. We can thus transform the problem to the following:\n",
        "\n",
        "$$ \\arg\\min_p \\left(D_\\mathrm{KL}(\\hat{v}_{i,t}, p) - \\frac{\\log(t) + c \\log(\\log(t))}{n_{i,t}}\\right)^2 \\quad \\text{s.t.}\\quad p \\in [\\hat{v}_{i,t}, 1] $$\n",
        "\n",
        "To do this, we can use the scipy function [`scipy.optimize.minimize_scalar`](https://docs.scipy.org/doc/scipy/reference/generated/scipy.optimize.minimize_scalar.html) with the objective above that seeks to make the constraint an equality (i.e., if the minimum of 0 is obtained, then the equality holds)."
      ]
    },
    {
      "cell_type": "code",
      "execution_count": null,
      "metadata": {
        "colab": {
          "base_uri": "https://localhost:8080/"
        },
        "id": "EyLROL_AbEDP",
        "outputId": "964d4154-7f08-457b-c328-9e5c5d5db81a",
        "scrolled": false
      },
      "outputs": [
        {
          "name": "stdout",
          "output_type": "stream",
          "text": [
            "Reward distributions\n",
            ": [0.00862925 0.03242344 0.22020359 0.10769649 0.03991645 0.40185367\n",
            " 0.3472172  0.41848837 0.77318202 0.33280157]\n",
            "Step = 01, Action = 0, Reward = 0, Cum reward = 0, Avg reward = 0.00, \n",
            "Step = 02, Action = 1, Reward = 0, Cum reward = 0, Avg reward = 0.00, \n",
            "Step = 03, Action = 2, Reward = 1, Cum reward = 1, Avg reward = 0.33, \n",
            "Step = 04, Action = 3, Reward = 0, Cum reward = 1, Avg reward = 0.25, \n",
            "Step = 05, Action = 4, Reward = 0, Cum reward = 1, Avg reward = 0.20, \n",
            "Step = 06, Action = 5, Reward = 0, Cum reward = 1, Avg reward = 0.17, \n",
            "Step = 07, Action = 6, Reward = 0, Cum reward = 1, Avg reward = 0.14, \n",
            "Step = 08, Action = 7, Reward = 1, Cum reward = 2, Avg reward = 0.25, \n",
            "Step = 09, Action = 8, Reward = 1, Cum reward = 3, Avg reward = 0.33, \n",
            "Step = 10, Action = 9, Reward = 0, Cum reward = 3, Avg reward = 0.30, \n",
            "Step = 11, Action = 2, Reward = 0, Cum reward = 3, Avg reward = 0.27, \n",
            "Step = 12, Action = 7, Reward = 0, Cum reward = 3, Avg reward = 0.25, \n",
            "Step = 13, Action = 8, Reward = 1, Cum reward = 4, Avg reward = 0.31, \n",
            "Step = 14, Action = 8, Reward = 1, Cum reward = 5, Avg reward = 0.36, \n",
            "Step = 15, Action = 8, Reward = 0, Cum reward = 5, Avg reward = 0.33, \n",
            "Step = 16, Action = 8, Reward = 1, Cum reward = 6, Avg reward = 0.38, \n",
            "Step = 17, Action = 8, Reward = 1, Cum reward = 7, Avg reward = 0.41, \n",
            "Step = 18, Action = 8, Reward = 1, Cum reward = 8, Avg reward = 0.44, \n",
            "Step = 19, Action = 8, Reward = 1, Cum reward = 9, Avg reward = 0.47, \n",
            "Step = 20, Action = 8, Reward = 0, Cum reward = 9, Avg reward = 0.45, \n"
          ]
        },
        {
          "data": {
            "text/plain": [
              "9"
            ]
          },
          "execution_count": 8,
          "metadata": {},
          "output_type": "execute_result"
        }
      ],
      "source": [
        "import scipy.optimize\n",
        "\n",
        "class KL_UCBAgent(UCBAgent):\n",
        "  def __init__(self, n_actions):\n",
        "    super().__init__(n_actions)\n",
        "\n",
        "  def select_action(self):\n",
        "    def KL(p, q, eps=1e-6):\n",
        "      # Make sure the p and q values are between 0 and 1 exclusive\n",
        "      p = np.clip(p, eps, 1-eps)\n",
        "      q = np.clip(q, eps, 1-eps)\n",
        "      # Compute the KL divergence given two Bernoulli probabilities p and q\n",
        "      kl_value = p*np.log(p/q) + (1-p)*np.log((1-p)/(1-q))\n",
        "      return kl_value\n",
        "\n",
        "    # This function creates an objective function (i.e., it is a functional)\n",
        "    def create_objective(v, t, n, c=3):\n",
        "      # v is the action value of the $i$-th action\n",
        "      # t is the timestep/total number of actions\n",
        "      # n is the number of times that action $i$ has been pulled\n",
        "      # c is a hyperparameter which we set to 3\n",
        "\n",
        "      # Squared objective for minimization\n",
        "      def objective_func(p):\n",
        "        objective = KL(v, p) + c*np.log(t)/n\n",
        "        return objective\n",
        "      \n",
        "      return objective_func\n",
        "\n",
        "\n",
        "    total_pulls = sum(self.action_counts)\n",
        "\n",
        "    # Pull each arm once at initialization\n",
        "    for i in range(self.n_actions):\n",
        "      if self.action_counts[i] == 0:\n",
        "        return i\n",
        "      else:\n",
        "        self.ucb_values[i] = self.action_value_func[i] + np.sqrt(2*np.log(total_pulls)/self.action_counts[i])\n",
        "    selected_arm = np.argmax(self.ucb_values)\n",
        "\n",
        "\n",
        "\n",
        "    # After initialization select arm with maximum UCB\n",
        "      # Calculate the KL-UCB for each action\n",
        "      # 1) Create objective by extracting the value and count for this action\n",
        "      # 2) Create the bounds\n",
        "      # 3) Call minimize_scalar with this objective and bounds\n",
        "      # 4) Extract the optimum from the returned optimizaiton result object\n",
        "    for i in range(self.n_actions):\n",
        "        if self.action_counts[i] == 0:\n",
        "            return i\n",
        "        else:\n",
        "            v = self.action_value_func[i]\n",
        "            n = self.action_counts[i]\n",
        "            objective = create_objective(v, total_pulls, n)\n",
        "            bounds = (0, 1)\n",
        "            result = scipy.optimize.minimize_scalar(objective, bounds=bounds, options=dict(maxiter=5))\n",
        "            self.ucb_values[i] = result.x\n",
        "\n",
        "\n",
        "\n",
        "      # Select arm with maximum KL-UCB\n",
        "    selected_arm = np.argmax(self.ucb_values)\n",
        "\n",
        "    return selected_arm\n",
        "\n",
        "  def __str__(self):\n",
        "    return f'KL-UCB'\n",
        "\n",
        "np.random.seed(randomSeed)\n",
        "env = BernoulliBanditEnvironment(10)\n",
        "print(f'Reward distributions\\n: {env.actions_probs}')\n",
        "kl_ucb_agent = KL_UCBAgent(len(env.actions_probs))\n",
        "env.simulate(kl_ucb_agent, n_steps=20, verbosity=1)"
      ]
    },
    {
      "cell_type": "markdown",
      "metadata": {
        "id": "Llsscrr6bEDP"
      },
      "source": [
        "## 3 - Compare algorithms and plot the rewards"
      ]
    },
    {
      "cell_type": "code",
      "execution_count": null,
      "metadata": {
        "colab": {
          "base_uri": "https://localhost:8080/",
          "height": 368
        },
        "id": "BxD_8myUbEDP",
        "outputId": "5142664c-a957-4ef6-dcfb-926139773ca1"
      },
      "outputs": [
        {
          "data": {
            "image/png": "[encoded data removed]",
            "text/plain": [
              "<Figure size 600x400 with 1 Axes>"
            ]
          },
          "metadata": {},
          "output_type": "display_data"
        }
      ],
      "source": [
        "# Compare algorithms\n",
        "n_actions = 100\n",
        "n_steps = 200\n",
        "agents = [\n",
        "    EpsilonGreedyAgent(n_actions, epsilon=0.1),\n",
        "    EpsilonGreedyAgent(n_actions, epsilon=0.9),\n",
        "    UCBAgent(n_actions),\n",
        "    KL_UCBAgent(n_actions)\n",
        "]\n",
        "label_list = []\n",
        "mean_reward_tensor = []\n",
        "for seed in range(10):\n",
        "    mean_reward_list = []\n",
        "    np.random.seed(randomSeed + seed)\n",
        "    env = BernoulliBanditEnvironment(n_actions)\n",
        "    #print([dist.probs.item() for dist in env.reward_dists])\n",
        "    for agent in agents + [OracleAgent(env)]:\n",
        "        np.random.seed(randomSeed*1000 + seed)\n",
        "        mean_reward = []\n",
        "        cum_reward = 0\n",
        "        for step in range(n_steps):\n",
        "            _, reward = env.simulate_step(agent)\n",
        "            cum_reward += reward\n",
        "            mean_reward.append(cum_reward / (step + 1))\n",
        "        mean_reward_list.append(mean_reward)\n",
        "        if seed == 0:\n",
        "            label_list.append(str(agent))\n",
        "    mean_reward_tensor.append(mean_reward_list)\n",
        "\n",
        "# Plot averages\n",
        "mean_reward_tensor = np.array(mean_reward_tensor)\n",
        "average_reward_agent = np.mean(mean_reward_tensor, axis=0)\n",
        "fig = plt.figure(figsize=(6,4), dpi=100)\n",
        "for x, label in zip(average_reward_agent, label_list):\n",
        "    if label == 'Oracle (best acheivable)':\n",
        "        plt.plot(x, label=label, linestyle='--', color='black')\n",
        "    else:\n",
        "        plt.plot(x, label=label)\n",
        "plt.legend(loc='center left', bbox_to_anchor=(1, 0.5))\n",
        "plt.show()\n"
      ]
    }
  ],
  "metadata": {
    "colab": {
      "provenance": []
    },
    "kernelspec": {
      "display_name": "Python 3",
      "language": "python",
      "name": "python3"
    },
    "language_info": {
      "codemirror_mode": {
        "name": "ipython",
        "version": 3
      },
      "file_extension": ".py",
      "mimetype": "text/x-python",
      "name": "python",
      "nbconvert_exporter": "python",
      "pygments_lexer": "ipython3",
      "version": "3.8.8"
    }
  },
  "nbformat": 4,
  "nbformat_minor": 0
}
