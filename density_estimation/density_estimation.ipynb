{
  "cells": [
    {
      "cell_type": "markdown",
      "metadata": {
        "id": "WfirXJR3qvB0"
      },
      "source": [
        "## Background\n",
        "This project will explore various density estimation methods. The first part will go over different density estimations in 1D and the second part will try to obtain the optimal hyperparameters."
      ]
    },
    {
      "cell_type": "markdown",
      "metadata": {
        "id": "Vcvio-cPoMLw"
      },
      "source": [
        "## 1.1 - Gaussian density"
      ]
    },
    {
      "cell_type": "code",
      "execution_count": null,
      "metadata": {
        "id": "qwdHcFVkoMLx"
      },
      "outputs": [],
      "source": [
        "import numpy as np\n",
        "import scipy.stats\n",
        "from sklearn.base import BaseEstimator\n",
        "np.random.seed(42)\n",
        "class GaussianDensity(BaseEstimator):\n",
        "    def fit(self, X, y=None):\n",
        "        self.mean_ = np.mean(X)\n",
        "        self.std_ = np.std(X)\n",
        "        return self\n",
        "\n",
        "    def predict_proba(self, X):\n",
        "        pdf_values = scipy.stats.norm.pdf(X, loc=self.mean_, scale=self.std_)\n",
        "        return pdf_values"
      ]
    },
    {
      "cell_type": "markdown",
      "metadata": {
        "id": "-r8Hops7oMLx"
      },
      "source": [
        "## 1.2 - Histogram density"
      ]
    },
    {
      "cell_type": "code",
      "execution_count": null,
      "metadata": {
        "id": "Fp_hCX40oMLy"
      },
      "outputs": [],
      "source": [
        "import numpy as np\n",
        "import scipy.stats\n",
        "from sklearn.base import BaseEstimator\n",
        "np.random.seed(42)\n",
        "class HistogramDensity(BaseEstimator):\n",
        "    def __init__(self, n_bins, min_val, max_val):\n",
        "        self.n_bins = n_bins\n",
        "        self.min_val = min_val\n",
        "        self.max_val = max_val\n",
        "\n",
        "    def fit(self, X, y=None):\n",
        "        self.bin_edges_ = np.linspace(self.min_val, self.max_val, self.n_bins+1)\n",
        "        self.pdf_per_bin_ = np.zeros(self.n_bins)\n",
        "        for i in range(self.n_bins):\n",
        "            self.pdf_per_bin_[i] = np.sum((X >= self.bin_edges_[i]) & (X < self.bin_edges_[i+1])) / len(X) / (self.bin_edges_[i+1] - self.bin_edges_[i])\n",
        "        return self\n",
        "\n",
        "    def predict_proba(self, X):\n",
        "        pdf_values = np.zeros(X.shape[0])\n",
        "        for i in range(X.shape[0]):\n",
        "            if X[i] < self.min_val or X[i] > self.max_val:\n",
        "                pdf_values[i] = 0\n",
        "            else:\n",
        "                for j in range(self.n_bins):\n",
        "                    if X[i] >= self.bin_edges_[j] and X[i] < self.bin_edges_[j+1]:\n",
        "                        pdf_values[i] = self.pdf_per_bin_[j]\n",
        "                        break\n",
        "\n",
        "        return pdf_values"
      ]
    },
    {
      "cell_type": "markdown",
      "metadata": {
        "id": "7NB1YGHBoMLz"
      },
      "source": [
        "## 1.3 - Kernel density\n",
        "Gaussian kernel density is given by:\n",
        "$$p(x; \\mathcal{D}) = \\frac{1}{n}\\sum_{i=1}^n p_{\\mathcal{N}}(x; \\mu = x_i, \\sigma=h) $$\n",
        "where $\\mathcal{D}=\\{x_i\\}_{i=1}^n$ is a training dataset of $n$ samples, $p_{\\mathcal{N}}$ is the Gaussian/normal density function and $h$ is called the bandwidth hyperparameter of the KDE model."
      ]
    },
    {
      "cell_type": "code",
      "execution_count": null,
      "metadata": {
        "id": "SiLBy4yQoMLz"
      },
      "outputs": [],
      "source": [
        "import numpy as np\n",
        "import scipy.stats\n",
        "from sklearn.base import BaseEstimator\n",
        "np.random.seed(42)\n",
        "class KernelDensity(BaseEstimator):\n",
        "    def __init__(self, bandwidth):\n",
        "        self.bandwidth = bandwidth\n",
        "\n",
        "    def fit(self, X, y=None):\n",
        "        # Save the training data in self.X_train_\n",
        "        self.X_train_ = X\n",
        "        return self\n",
        "\n",
        "    def predict_proba(self, X):\n",
        "        pdf_values = np.zeros(X.shape[0])\n",
        "        for i in range(X.shape[0]):\n",
        "            pdf_values[i] = np.mean(scipy.stats.norm.pdf(X[i], loc=self.X_train_, scale=self.bandwidth))\n",
        "        return pdf_values "
      ]
    },
    {
      "cell_type": "code",
      "execution_count": null,
      "metadata": {
        "colab": {
          "base_uri": "https://localhost:8080/",
          "height": 725
        },
        "id": "KUtza5gyoML0",
        "outputId": "6f5f064c-6989-4d76-a1d9-742b6e2989b1",
        "scrolled": false
      },
      "outputs": [
        {
          "name": "stdout",
          "output_type": "stream",
          "text": [
            "(200, 1) (200, 1)\n",
            "Fitting GaussianDensity model\n",
            "False, Shape=(1000, 1) - Is the output the correct shape?\n",
            "True, Num neg=0 - Are all pdf values >= 0? \n",
            "quad_out=0.9999916379946465\n",
            "\n",
            "Fitting HistogramDensity model\n",
            "True, Shape=(1000,) - Is the output the correct shape?\n",
            "True, Num neg=0 - Are all pdf values >= 0? \n",
            "quad_out=1.0000260507608276\n",
            "\n",
            "Fitting KernelDensity model\n",
            "True, Shape=(1000,) - Is the output the correct shape?\n",
            "True, Num neg=0 - Are all pdf values >= 0? \n",
            "quad_out=1.0\n",
            "\n"
          ]
        },
        {
          "data": {
            "text/plain": [
              "<matplotlib.legend.Legend at 0x7b5a2d1c1840>"
            ]
          },
          "execution_count": 13,
          "metadata": {},
          "output_type": "execute_result"
        },
        {
          "data": {
            "image/png": "[encoded data removed]",
            "text/plain": [
              "<Figure size 640x480 with 1 Axes>"
            ]
          },
          "metadata": {},
          "output_type": "display_data"
        }
      ],
      "source": [
        "# %pdb on\n",
        "import scipy.stats\n",
        "import matplotlib.pyplot as plt\n",
        "from sklearn.model_selection import train_test_split\n",
        "# Generate some data and split into train and test\n",
        "np.random.seed(42)\n",
        "min_val, max_val = -5, 5\n",
        "diff = max_val - min_val\n",
        "X = diff * np.vstack([scipy.stats.beta(6,1).rvs(size=(300,1)), scipy.stats.beta(2,7).rvs(size=(100,1))]) - diff/2\n",
        "X_train, X_test = train_test_split(X, test_size=0.5, random_state=15)\n",
        "print(X_train.shape, X_test.shape)\n",
        "\n",
        "# Loop through models\n",
        "models = [GaussianDensity(),\n",
        "          HistogramDensity(n_bins=15, min_val=min_val, max_val=max_val),\n",
        "          KernelDensity(bandwidth=1)\n",
        "         ]\n",
        "for model in models:\n",
        "    print(f'Fitting {type(model).__name__} model')\n",
        "    # Fit models\n",
        "    model.fit(X_train)\n",
        "\n",
        "    # Sanity checks\n",
        "    xq = np.linspace(min_val-diff, max_val+diff, num=1000)\n",
        "    pdf_vals = model.predict_proba(xq.reshape(-1, 1))\n",
        "    # Check that right size and >= 0\n",
        "    print(f'{len(pdf_vals.shape) == 1 and pdf_vals.shape[0] == len(xq)}, Shape={pdf_vals.shape}'\n",
        "          f' - Is the output the correct shape?')\n",
        "    print(f'{np.all(pdf_vals>=0)}, Num neg={np.sum(pdf_vals < 0)} - Are all pdf values >= 0? ')\n",
        "\n",
        "    # Check that integrates to 1 vai approximate numerical integration\n",
        "    model_pdf = lambda x: model.predict_proba(np.array(x).reshape(1,1))[0]\n",
        "    quad_out = scipy.integrate.quad(model_pdf, min_val - diff, max_val + diff, limit=100, full_output=True)\n",
        "    # print(f'{np.abs(quad_out[0] - 1) < 1e-4}, quad_out={quad_out[0]} - Does the PDF integrate to 1? ')\n",
        "    print(f'quad_out={quad_out[0]}')\n",
        "    print('')\n",
        "\n",
        "    # Plot density model\n",
        "    plt.plot(xq, pdf_vals, label=type(model).__name__)\n",
        "\n",
        "plt.legend()"
      ]
    },
    {
      "cell_type": "markdown",
      "metadata": {
        "id": "bNsiR5cUM46G"
      },
      "source": [
        "## 2.1 - Implement custom scorer function for use in GridSearchCV\n",
        "This section will implement a `scorer` function that will compute the log likelihood of the data given (higher is better).\n",
        "This function takes in the model, the input data X and y_true (which defaults to None since this is an unsupervised problem and can be ignored)."
      ]
    },
    {
      "cell_type": "code",
      "execution_count": null,
      "metadata": {
        "id": "Z-EGjl_NoML0"
      },
      "outputs": [],
      "source": [
        "def mean_log_likelihood_scorer(model, X, y_true=None, lam=1e-15):\n",
        "    #  (Note y_true is not used)\n",
        "    mean_log_val = np.mean(np.log(model.predict_proba(X) + lam))\n",
        "    return mean_log_val"
      ]
    },
    {
      "cell_type": "markdown",
      "metadata": {
        "id": "JEDbzx2PoML1"
      },
      "source": [
        "## 2.2 - Estimate best hyperparameters\n",
        "The `estimate_param` function takes in the density model, train and test dataset, parameter searching grid, model evaluation function and the number of folds for cross validaiton, and outputs the grid search result and the score on the test dataset. It uses sklearn's cross validation utilities to cross validate using the training data to determine the best parameters."
      ]
    },
    {
      "cell_type": "code",
      "execution_count": null,
      "metadata": {
        "colab": {
          "base_uri": "https://localhost:8080/"
        },
        "id": "2vmDKahkoML1",
        "outputId": "5aa65bdc-69e7-4976-ab30-483a7b10b165"
      },
      "outputs": [
        {
          "name": "stdout",
          "output_type": "stream",
          "text": [
            "The best parameter given for n_bins is 6\n",
            "Log-likelihood for test data is -1.8869764537763678\n"
          ]
        }
      ],
      "source": [
        "from sklearn.model_selection import GridSearchCV\n",
        "\n",
        "def estimate_param(X_train, X_test, density_model, param_grid, score_function, cv):\n",
        "  \"\"\"\n",
        "  Complete this function by using the GridSearchCV to search for the best parameter within the grid\n",
        "  Inputs:\n",
        "    X_train: training data\n",
        "    X_test: testing data\n",
        "    density_model: the density estimation function\n",
        "    param_grid: a dictionary of the searching grid\n",
        "    score_function: a function that evaluates the model on a dataset\n",
        "    cv: number of folds for cross validation\n",
        "  Output:\n",
        "    grid_search_cv: the estimator after fitting on the training data\n",
        "    test_log_likelihood: the log-likelihood of test set using the best number of bins\n",
        "  \"\"\"\n",
        "  grid_search_cv = GridSearchCV(density_model, param_grid, scoring=score_function, cv=cv)\n",
        "  grid_search_cv.fit(X_train)\n",
        "  test_log_likelihood = mean_log_likelihood_scorer(grid_search_cv.best_estimator_, X_test)\n",
        "  return grid_search_cv, test_log_likelihood\n",
        "\n",
        "# Call the estimation function with the desired parameters and extract the best number of bins selected by CV\n",
        "np.random.seed(42) \n",
        "param_grid = {'n_bins': np.arange(1, 50)}\n",
        "density_model = HistogramDensity(n_bins=15, min_val=min_val, max_val=max_val)\n",
        "cv = 10\n",
        "grid_search_cv, test_log_likelihood = estimate_param(X_train, X_test, density_model, param_grid, mean_log_likelihood_scorer, cv)\n",
        "best_n_bins = grid_search_cv.best_params_['n_bins']\n",
        "\n",
        "print(f\"The best parameter given for n_bins is {best_n_bins}\")\n",
        "print(f\"Log-likelihood for test data is {test_log_likelihood}\")"
      ]
    },
    {
      "cell_type": "code",
      "execution_count": null,
      "metadata": {
        "colab": {
          "base_uri": "https://localhost:8080/"
        },
        "id": "vsIkeYDXuVyj",
        "outputId": "1d0e3654-7755-4985-e1d1-30ad3221cc70"
      },
      "outputs": [
        {
          "name": "stdout",
          "output_type": "stream",
          "text": [
            "The best parameter given for bandwidth is 0.3020408163265306\n",
            "Log-likelihood for test data is -1.9436632867557386\n"
          ]
        }
      ],
      "source": [
        "# Call the estimation function with the desired parameters and extract the best bandwidth as selected by CV\n",
        "np.random.seed(42)\n",
        "\n",
        "param_grid = {'bandwidth': np.linspace(0.1, 10, 50)}\n",
        "density_model = KernelDensity(bandwidth=1)\n",
        "cv = 10\n",
        "grid_search_cv, test_log_likelihood = estimate_param(X_train, X_test, density_model, param_grid, mean_log_likelihood_scorer, cv)\n",
        "best_bandwidth = grid_search_cv.best_params_['bandwidth']\n",
        "\n",
        "print(f\"The best parameter given for bandwidth is {best_bandwidth}\")\n",
        "print(f\"Log-likelihood for test data is {test_log_likelihood}\")"
      ]
    }
  ],
  "metadata": {
    "colab": {
      "provenance": [],
      "toc_visible": true
    },
    "kernelspec": {
      "display_name": "Python 3",
      "language": "python",
      "name": "python3"
    },
    "language_info": {
      "codemirror_mode": {
        "name": "ipython",
        "version": 3
      },
      "file_extension": ".py",
      "mimetype": "text/x-python",
      "name": "python",
      "nbconvert_exporter": "python",
      "pygments_lexer": "ipython3",
      "version": "3.10.6"
    },
    "vscode": {
      "interpreter": {
        "hash": "b0fa6594d8f4cbf19f97940f81e996739fb7646882a419484c72d19e05852a7e"
      }
    }
  },
  "nbformat": 4,
  "nbformat_minor": 0
}
