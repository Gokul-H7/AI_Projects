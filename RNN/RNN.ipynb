{
  "cells": [
    {
      "cell_type": "markdown",
      "metadata": {
        "id": "bYMyL9snFcDk"
      },
      "source": [
        "## Background\n",
        "This Project focuses on building an RNN model to predict the next character in a sequence of text data from Shakespeare's plays."
      ]
    },
    {
      "cell_type": "markdown",
      "metadata": {
        "id": "8BaBkDGGFcDl"
      },
      "source": [
        "## 1.1 - Data Preprocessing"
      ]
    },
    {
      "cell_type": "code",
      "execution_count": null,
      "metadata": {
        "colab": {
          "base_uri": "https://localhost:8080/"
        },
        "id": "znqKOQgY5QV5",
        "outputId": "580454a8-a8a8-49bd-874e-ae01c4f048fc"
      },
      "outputs": [
        {
          "name": "stdout",
          "output_type": "stream",
          "text": [
            "Collecting unidecode\n",
            "  Downloading Unidecode-1.3.8-py3-none-any.whl (235 kB)\n",
            "\u001b[?25l     \u001b[90m━━━━━━━━━━━━━━━━━━━━━━━━━━━━━━━━━━━━━━━━\u001b[0m \u001b[32m0.0/235.5 kB\u001b[0m \u001b[31m?\u001b[0m eta \u001b[36m-:--:--\u001b[0m\r\u001b[2K     \u001b[91m━━━━━━━━━━━━━━━━━━━━━━━━━━━━━━━━━\u001b[0m\u001b[90m╺\u001b[0m\u001b[90m━━━━━━\u001b[0m \u001b[32m194.6/235.5 kB\u001b[0m \u001b[31m5.6 MB/s\u001b[0m eta \u001b[36m0:00:01\u001b[0m\r\u001b[2K     \u001b[90m━━━━━━━━━━━━━━━━━━━━━━━━━━━━━━━━━━━━━━━━\u001b[0m \u001b[32m235.5/235.5 kB\u001b[0m \u001b[31m4.8 MB/s\u001b[0m eta \u001b[36m0:00:00\u001b[0m\n",
            "\u001b[?25hInstalling collected packages: unidecode\n",
            "Successfully installed unidecode-1.3.8\n",
            "0123456789abcdefghijklmnopqrstuvwxyzABCDEFGHIJKLMNOPQRSTUVWXYZ!\"#$%&'()*+,-./:;<=>?@[\\]^_`{|}~ \t\n",
            "\u000b\f\n"
          ]
        }
      ],
      "source": [
        "import numpy as np\n",
        "! pip install unidecode\n",
        "import unidecode\n",
        "import string\n",
        "import time\n",
        "import torch\n",
        "import pdb\n",
        "\n",
        "import torch.nn as nn\n",
        "from torch.autograd import Variable\n",
        "\n",
        "all_characters = string.printable\n",
        "print(all_characters)"
      ]
    },
    {
      "cell_type": "markdown",
      "metadata": {
        "id": "TmJD_PTFYR9Q"
      },
      "source": [
        "This section is to load the text given in the google drive directory. "
      ]
    },
    {
      "cell_type": "code",
      "execution_count": null,
      "metadata": {
        "colab": {
          "base_uri": "https://localhost:8080/"
        },
        "id": "UwUNU4ChYS89",
        "outputId": "7b3531e8-bd2c-47e9-fcbc-e6e19de33d2e"
      },
      "outputs": [
        {
          "name": "stdout",
          "output_type": "stream",
          "text": [
            "Mounted at /content/drive\n"
          ]
        }
      ],
      "source": [
        "from google.colab import drive\n",
        "drive.mount('/content/drive')"
      ]
    },
    {
      "cell_type": "code",
      "execution_count": null,
      "metadata": {
        "colab": {
          "base_uri": "https://localhost:8080/"
        },
        "id": "2NgDiYr15QV8",
        "outputId": "5da35116-f25e-4eca-cd70-dc78c44b2c63"
      },
      "outputs": [
        {
          "name": "stdout",
          "output_type": "stream",
          "text": [
            "file length: 1115394\n",
            "First Citizen:\n",
            "Before we proceed any further, hear me speak.\n",
            "\n",
            "All:\n",
            "Speak, speak.\n",
            "\n",
            "First Citizen:\n",
            "You\n"
          ]
        }
      ],
      "source": [
        "def read_file(filename):\n",
        "    file = unidecode.unidecode(open(filename).read())\n",
        "    return file\n",
        "\n",
        "file_path = '/shakespeare.txt'\n",
        "file = read_file(file_path)\n",
        "file_len = len(file)\n",
        "print(f\"file length: {file_len}\")\n",
        "print(file[:100])"
      ]
    },
    {
      "cell_type": "markdown",
      "metadata": {
        "id": "ZsQwF_CMFcDm"
      },
      "source": [
        "## 1.2 Function to generate random chunk of data from given dataset"
      ]
    },
    {
      "cell_type": "code",
      "execution_count": null,
      "metadata": {
        "colab": {
          "base_uri": "https://localhost:8080/"
        },
        "id": "Jlq8jmC17g40",
        "outputId": "7b3f6d96-1343-4896-f771-ddbf39c2e702"
      },
      "outputs": [
        {
          "name": "stdout",
          "output_type": "stream",
          "text": [
            "curr_chunk =>Hello worl\n",
            " next_chunk=> ello world\n",
            "Is curr_chunk and next_chunk same length: True\n",
            "Is next chunk shifted by one: True\n"
          ]
        }
      ],
      "source": [
        "def get_random_chunk(file, rng, chunk_len = 100):\n",
        "    start_index = rng.randint(0, len(file) - chunk_len)\n",
        "    end_index = start_index + chunk_len + 1\n",
        "    chunk = file[start_index:end_index]\n",
        "    return chunk[:-1], chunk[1:]\n",
        "\n",
        "rng = np.random.RandomState(123)\n",
        "curr_chunk, next_chunk = get_random_chunk(file='Hello world!', rng=rng, chunk_len=10)\n",
        "print(f\"curr_chunk =>{curr_chunk}\\n next_chunk=> {next_chunk}\")\n",
        "\n",
        "print(f\"Is curr_chunk and next_chunk same length: {len(curr_chunk) == len(next_chunk)}\")\n",
        "print(f\"Is next chunk shifted by one: {curr_chunk[1:] == next_chunk[:-1]}\")\n"
      ]
    },
    {
      "cell_type": "markdown",
      "metadata": {
        "id": "grwjvdZCFcDn"
      },
      "source": [
        "## 1.3 - Implement function to convert to tensors"
      ]
    },
    {
      "cell_type": "code",
      "execution_count": null,
      "metadata": {
        "colab": {
          "base_uri": "https://localhost:8080/"
        },
        "id": "p4OGaxQoFcDo",
        "outputId": "137e4ff0-4add-40df-cef7-e8bfb3fa4911"
      },
      "outputs": [
        {
          "name": "stdout",
          "output_type": "stream",
          "text": [
            "g's, which Florizel I now name to you; and with sp\n",
            "'s, which Florizel I now name to you; and with spe\n",
            "input shape: torch.Size([50, 1, 100])\n",
            "output shape: torch.Size([50, 1, 100])\n"
          ]
        }
      ],
      "source": [
        "def to_tensor(string):\n",
        "    tensor = torch.zeros(len(string), 1, len(all_characters))\n",
        "    for i, char in enumerate(string):\n",
        "      tensor[i][0][all_characters.index(char)] = 1\n",
        "    return tensor\n",
        "\n",
        "def get_one_hot_tensors(input, output):\n",
        "    return to_tensor(input), to_tensor(output)\n",
        "\n",
        "rng = np.random.RandomState(123)\n",
        "input, output = get_random_chunk(file, rng,  50)\n",
        "print(input.replace('\\n', ' '))\n",
        "print(output.replace('\\n', ' '))\n",
        "input_tensor, output_tensor = get_one_hot_tensors(input, output)\n",
        "print(f\"input shape: {input_tensor.shape}\")\n",
        "print(f\"output shape: {output_tensor.shape}\")"
      ]
    },
    {
      "cell_type": "markdown",
      "metadata": {
        "id": "ollYgjInFcDo"
      },
      "source": [
        "## 2.1 - Build RNN model\n",
        "\n",
        "RNN model is built using PyTorch\n",
        "- nn.GRU is used to implement the GRU algorithm for processing sequential input data.\n",
        "- The decoder layer is a fully connected neural network layer that maps the output of the GRU layer to the desired output size.\n",
        "- We are only implementing a single layer RNN so the model is not powerful enough to learn long-term dependencies in the text data."
      ]
    },
    {
      "cell_type": "code",
      "execution_count": null,
      "metadata": {
        "id": "9Obd7_b75kiV"
      },
      "outputs": [],
      "source": [
        "import torch\n",
        "import torch.nn as nn\n",
        "from torch.autograd import Variable\n",
        "\n",
        "class RNN(nn.Module):\n",
        "    def __init__(self, input_size, hidden_size, output_size, n_layers=1):\n",
        "        super(RNN, self).__init__()\n",
        "        self.input_size = input_size\n",
        "        self.hidden_size = hidden_size\n",
        "        self.output_size = output_size\n",
        "        self.n_layers = n_layers\n",
        "        self.rnn_cell = nn.GRU(input_size, hidden_size, n_layers) # set rnn_cell to nn.GRU\n",
        "        self.decoder = nn.Linear(hidden_size, output_size) # decode layer\n",
        "\n",
        "    def forward(self, input, hidden):\n",
        "        # reshapes inputs to GRU and decoder layers\n",
        "        input = input.view(1, 1, -1)\n",
        "        output, hidden = self.rnn_cell(input, hidden)\n",
        "        output = output.view(1, -1)\n",
        "        output = self.decoder(output)\n",
        "        return output, hidden\n",
        "\n",
        "    def init_hidden(self):\n",
        "        return Variable(torch.zeros(self.n_layers, 1, self.hidden_size))"
      ]
    },
    {
      "cell_type": "code",
      "execution_count": null,
      "metadata": {
        "id": "EeF6V-lr7-iC"
      },
      "outputs": [],
      "source": [
        "def train(inp, target, decoder):\n",
        "    hidden = decoder.init_hidden()\n",
        "    decoder.zero_grad()\n",
        "    loss = 0\n",
        "\n",
        "    input_tensor, target_tensor = get_one_hot_tensors(inp, target)\n",
        "    for c in range(len(inp)):\n",
        "        output, hidden = decoder(input_tensor[c], hidden)\n",
        "        loss += criterion(output, torch.argmax(target_tensor[c]).unsqueeze(0))\n",
        "\n",
        "    loss.backward()\n",
        "    decoder_optimizer.step()\n",
        "    return loss.item() / max_length"
      ]
    },
    {
      "cell_type": "code",
      "execution_count": null,
      "metadata": {
        "id": "-e9e-MMZFcDp"
      },
      "outputs": [],
      "source": [
        "def evaluate(decoder, prime_str='A', predict_len=100, temperature=0.8):\n",
        "    hidden = decoder.init_hidden()\n",
        "    prime_input = to_tensor(prime_str)\n",
        "    predicted = prime_str\n",
        "    for p in range(len(prime_str) - 1):\n",
        "        out, hidden = decoder(prime_input[p], hidden)\n",
        "    inp = prime_input[-1]\n",
        "    for p in range(predict_len):\n",
        "        output, hidden = decoder(inp, hidden)\n",
        "\n",
        "        # Sample from the network as a multinomial distribution\n",
        "        output_dist = output.data.view(-1).div(temperature).exp()\n",
        "        top_i = torch.multinomial(output_dist, 1)[0]\n",
        "\n",
        "        # Add predicted character to string and use as next input\n",
        "        predicted_char = all_characters[top_i]\n",
        "        predicted += predicted_char\n",
        "        inp = to_tensor(predicted_char)\n",
        "\n",
        "    return predicted"
      ]
    },
    {
      "cell_type": "code",
      "execution_count": null,
      "metadata": {
        "colab": {
          "base_uri": "https://localhost:8080/",
          "height": 1000
        },
        "id": "j-rK_nLB8VyD",
        "outputId": "4ace39d0-0076-422f-fc96-e7ea9981a067",
        "scrolled": false
      },
      "outputs": [
        {
          "name": "stdout",
          "output_type": "stream",
          "text": [
            "[(100 5.0%) 2.7158718872070313]\n",
            "Whatnirgy minpmous sorwy surs pol the that daveri\n",
            "b tilg nlros be thansenort yd s tors.\n",
            "enth, hin assr \n",
            "\n",
            "[(200 10.0%) 2.3934144592285156]\n",
            "Whe and anl pay wind wa avr\n",
            "Goed teag ond, tout ang witor,\n",
            "I an yurl an ati slanl hinn on thes anmle w \n",
            "\n",
            "[(300 15.0%) 2.6698178100585936]\n",
            "Whey inou, ar:\n",
            "Math thim thed insspur.\n",
            "On the sto: shebll hangsins him he shersty,\n",
            "The s art le me sea \n",
            "\n",
            "[(400 20.0%) 2.340398406982422]\n",
            "Whor to cutke thy tis me;\n",
            "I seor, shy's at manture owe\n",
            "\n",
            "LARDIVT:\n",
            "Busterile, ing sofare, anding sofo hi \n",
            "\n",
            "[(500 25.0%) 2.135816802978516]\n",
            "Whave groull chell watll womd!\n",
            "Whas in wrest his af me the vatt cord ond forgler\n",
            "By not ot mer promy m \n",
            "\n",
            "[(600 30.0%) 2.114157257080078]\n",
            "Whe cound but sut I the the hid thace Andee fore wime she tie\n",
            "I the the tach sut a corqust gout ingat  \n",
            "\n",
            "[(700 35.0%) 2.156568756103516]\n",
            "Whe cofest with in ome tole.\n",
            "\n",
            "BARIZALUS:\n",
            "AN wirr kis it And now hathin ais it or wone.\n",
            "\n",
            "LARIE:\n",
            "O, you  \n",
            "\n",
            "[(800 40.0%) 1.9574339294433594]\n",
            "Whall ferthes cother sich you for mear,\n",
            "Frerwes the mal; with the suever's Gave mered; and erear o 'to \n",
            "\n",
            "[(900 45.0%) 2.0257992553710937]\n",
            "Whing's\n",
            "Vood sels the test you nom I beatent and he hens fut there mangs your I mather.\n",
            "\n",
            "GOWIUS:\n",
            "Mande \n",
            "\n",
            "[(1000 50.0%) 2.241017303466797]\n",
            "Whe wowe there proust so betist,\n",
            "And stouther as co port ard so kidt conwer of thee your to king,\n",
            "Ard  \n",
            "\n",
            "[(1100 55.00000000000001%) 2.0859747314453125]\n",
            "What we chuse cord,\n",
            "Leare that sory ging kord.\n",
            "\n",
            "MARIO:\n",
            "'s you werpay, I be,\n",
            "That who peroby 'othurd th \n",
            "\n",
            "[(1200 60.0%) 1.8718965148925781]\n",
            "Whencedreaby I here What lay,\n",
            "And lobe to bace a maring wor shallding as pinelas;\n",
            "\n",
            "PremI I IV:\n",
            "Serie s \n",
            "\n",
            "[(1300 65.0%) 2.0804072570800782]\n",
            "Whiss his that hands\n",
            "And shall your wor the sust the hearng\n",
            "Thge nons, a padt the soulded the we tham, \n",
            "\n",
            "[(1400 70.0%) 1.9336268615722656]\n",
            "Whinds,\n",
            "To we to bill oup forthy it forst you main.\n",
            "Prom of buk now I priant, and gpaids ant our thene \n",
            "\n",
            "[(1500 75.0%) 1.9297503662109374]\n",
            "Whind shich be start no vild gage:\n",
            "As the berendy him doty with sof in the detel\n",
            "Of it your at Lord:\n",
            "T \n",
            "\n",
            "[(1600 80.0%) 2.014713134765625]\n",
            "Whice?\n",
            "\n",
            "CLIYRANTER:\n",
            "Parius and the woll; thit wiles; treyo grave?\n",
            "\n",
            "PAUMIO:\n",
            "Froth to know you.\n",
            "\n",
            "ROMEO:\n",
            " \n",
            "\n",
            "[(1700 85.0%) 1.8894422912597657]\n",
            "Whates made, that I usimanion.\n",
            "What op that stay the lece, and liger!\n",
            "KANRENRY VINCUS:\n",
            "What, maly thal \n",
            "\n",
            "[(1800 90.0%) 2.138793640136719]\n",
            "What me ilarnfarr!\n",
            "\n",
            "Fbonts erifan.\n",
            "\n",
            "GLOUCESTENS:\n",
            "May so-les do, more thoure horst and antert.\n",
            "\n",
            "MANZELO \n",
            "\n",
            "[(1900 95.0%) 1.7815802001953125]\n",
            "Whese mied.\n",
            "\n",
            "QUAEY:\n",
            "Hold to deaty hear theer me he deeed lord,\n",
            "The mackint to kimb mishall to leave yo \n",
            "\n",
            "[(2000 100.0%) 1.631962432861328]\n",
            "Whick sentire is spespedlet jutce it offine more\n",
            "me shall not that with ent ne eever your,\n",
            "You have th \n",
            "\n",
            "______________________________________________________________\n",
            "That shall sone the pare that shall be the pare son.\n",
            "\n",
            "COMINIUS:\n",
            "What the sent that shall the seart wither the mand to seart\n",
            "What the shall the shall the leave the reater to the reater.\n",
            "\n",
            "GLOUCESTER:\n",
            "What\n"
          ]
        },
        {
          "data": {
            "image/png": "[encoded data removed]",
            "text/plain": [
              "<Figure size 640x480 with 1 Axes>"
            ]
          },
          "metadata": {},
          "output_type": "display_data"
        }
      ],
      "source": [
        "n_epochs = 2000\n",
        "print_every = 100\n",
        "plot_every = 10\n",
        "hidden_size = 100\n",
        "n_layers = 1\n",
        "lr = 0.005\n",
        "max_length = len(all_characters)\n",
        "\n",
        "decoder = RNN(max_length, hidden_size, max_length)\n",
        "decoder_optimizer = torch.optim.Adam(decoder.parameters(), lr=lr)\n",
        "criterion = nn.CrossEntropyLoss()\n",
        "\n",
        "start = time.time()\n",
        "all_losses = []\n",
        "loss_avg = 0\n",
        "rng = np.random.RandomState(123)\n",
        "\n",
        "for epoch in range(1, n_epochs + 1):\n",
        "    loss = train(*get_random_chunk(file, rng), decoder)\n",
        "    loss_avg += loss\n",
        "\n",
        "    if epoch % print_every == 0:\n",
        "        print(f\"[({epoch} {epoch / n_epochs * 100}%) {loss}]\")\n",
        "        print(evaluate(decoder, 'Wh', 100), '\\n')\n",
        "\n",
        "    if epoch % plot_every == 0:\n",
        "        all_losses.append(loss_avg / plot_every)\n",
        "        loss_avg = 0\n",
        "\n",
        "print(f\"______________________________________________________________\")\n",
        "print(evaluate(decoder, 'Th', 200, temperature=0.2))\n",
        "\n",
        "import matplotlib.pyplot as plt\n",
        "plt.plot(all_losses)\n",
        "plt.title(\"GRU Loss: Loss vs Epoch\")\n",
        "plt.xlabel(\"Epoch\")\n",
        "plt.ylabel(\"Loss\")\n",
        "plt.show()"
      ]
    },
    {
      "cell_type": "markdown",
      "metadata": {
        "id": "Tgit73uSFcDp"
      },
      "source": [
        "## 3.1 - Implement an LSTM model\n",
        "\n",
        "The code below will use this instead of the GRU cell module and train the model."
      ]
    },
    {
      "cell_type": "code",
      "execution_count": null,
      "metadata": {
        "id": "4QUw29z0FcDq"
      },
      "outputs": [],
      "source": [
        "class LSTMCell(nn.Module):\n",
        "    def __init__(self, input_size, hidden_size, bias=True):\n",
        "        super(LSTMCell, self).__init__()\n",
        "        self.input_size = input_size\n",
        "        self.hidden_size = hidden_size\n",
        "        self.bias = bias\n",
        "\n",
        "        self.xh = nn.Linear(input_size, hidden_size * 4, bias=bias)\n",
        "        self.hh = nn.Linear(hidden_size, hidden_size * 4, bias=bias)\n",
        "        self.reset_parameters()\n",
        "\n",
        "    def reset_parameters(self):\n",
        "        std = 1.0 / np.sqrt(self.hidden_size)\n",
        "        for w in self.parameters():\n",
        "            w.data.uniform_(-std, std)\n",
        "\n",
        "    def forward(self, input, hidden=None):\n",
        "        # Unpack hidden state and cell state\n",
        "        hx, cx = hidden\n",
        "        # Apply linear layers to input and hidden state\n",
        "        linear = self.xh(input) + self.hh(hx)\n",
        "        # Get outputs of applying a linear transform for each part of the LSTM\n",
        "        input_linear, forget_linear, cell_linear, output_linear = linear.reshape(-1).chunk(4)\n",
        "        # apply activation function, get new cell states and hidden states\n",
        "        input_gate = torch.sigmoid(input_linear)\n",
        "        forget_gate = torch.sigmoid(forget_linear)\n",
        "        cell_gate = torch.tanh(cell_linear)\n",
        "        output_gate = torch.sigmoid(output_linear)\n",
        "\n",
        "        c_new = (forget_gate * cx) + (input_gate * cell_gate)\n",
        "        h_new = output_gate * torch.tanh(c_new)\n",
        "\n",
        "        # Pack cell state $C_t$ and hidden state $h_t$ into a single hidden state tuple\n",
        "        output = h_new # For LSTM the output is just the hidden state\n",
        "        hidden = (h_new, c_new) # Packed h and C\n",
        "        return output, hidden\n",
        "\n"
      ]
    },
    {
      "cell_type": "code",
      "execution_count": null,
      "metadata": {
        "colab": {
          "base_uri": "https://localhost:8080/",
          "height": 1000
        },
        "id": "HJMMHVt3FcDq",
        "outputId": "74f46592-fe72-4fe9-9737-cccbc7ec27e0",
        "scrolled": false
      },
      "outputs": [
        {
          "name": "stdout",
          "output_type": "stream",
          "text": [
            "[(100 5.0%) 3.1655123901367186]\n",
            "Whmo9e!ln  smeinrl u\n",
            "r      eTbas ot eCle   do\n",
            "o y   dveu h tn eAas o  lrlM T-,e s\n",
            "go    or eaehhs weI \n",
            "\n",
            "[(200 10.0%) 3.080840759277344]\n",
            "Whgosthmnr vouo   nie eiatry i lel  t\n",
            "yecmv eIe Te ter ee! ,eofn airrgeuoseo d!nnadfnedtn clo  ten a i \n",
            "\n",
            "[(300 15.0%) 3.39466552734375]\n",
            "WhJ;'neo trg emid c ien hurinenalthTH ;id shuntewbtn hou yedr \n",
            "hi  crn aay akehT'mon nfhn rceoi fareh  \n",
            "\n",
            "[(400 20.0%) 3.202256774902344]\n",
            "Whh Soac.Ton Ae n rar ttuatte oer ro la hin cNiainp chen k the ee\n",
            "lr tho ber s to col e \n",
            "ur sulS ohar  \n",
            "\n",
            "[(500 25.0%) 2.7829360961914062]\n",
            "When thecek, thed s ase l ave ms tne d fo'or goh ghew nopre lm tah sebaled ariontd !yitergnsf tot poat \n",
            "\n",
            "[(600 30.0%) 2.6440185546875]\n",
            "Whasos thP atos\n",
            "\n",
            "\n",
            "SC\n",
            "oE anoa heptthutty nor sa oit dor shavf to bits eopla-sa ul ite\n",
            " tan oud tolm sau \n",
            "\n",
            "[(700 35.0%) 2.722579040527344]\n",
            "When thoun giind soun lom, were't lored shont t teirl seaai poid\n",
            "\n",
            "s;\n",
            "\n",
            "KFA OoI th tad aus andfdC Gof na \n",
            "\n",
            "[(800 40.0%) 2.494927978515625]\n",
            "Whe doot ou if, iaee it Uheur fongheenbentl houn ceere ha oud aund eore fon tus lali\n",
            "\n",
            "AI:\n",
            "uEC IVEQ\n",
            "\n",
            "hh \n",
            "\n",
            "[(900 45.0%) 2.5518418884277345]\n",
            "Whe yorsy mor ate lorere.\n",
            "me, sotas wime morlt tae le wthes,\n",
            "\n",
            "CIVwIRPNN:agg anseen ans and Gowd me in  \n",
            "\n",
            "[(1000 50.0%) 2.6366387939453126]\n",
            "Whit ure souce gase wort the wean,s\n",
            "Fis he risst.\n",
            "Whet he ning kishe nouinrt bisve beus isd aris mass, \n",
            "\n",
            "[(1100 55.00000000000001%) 2.6081509399414062]\n",
            "Whik routchf moutharth! Whu the thik thes, Ae ith yiet ehe guan his fet shiun shore thawo snind srou f \n",
            "\n",
            "[(1200 60.0%) 2.398418426513672]\n",
            "Wh\n",
            "sHker, be poceRskensRNI carethin.\n",
            "Thou, gouvl, wuy to gat ae conh et thang piangis, yenves thees fo \n",
            "\n",
            "[(1300 65.0%) 2.4735926818847656]\n",
            "Whit ull ther's Go nour f thon boy so tow or myrors ath the that to lresmas werstoind.\n",
            "\n",
            "bonghen thoudh \n",
            "\n",
            "[(1400 70.0%) 2.4261590576171876]\n",
            "Whe thom yoann thalr porrert int teat go toy pertist slisastor tfipith 'iso reang?\n",
            "\n",
            "D oURUEO:\n",
            "Yer bare \n",
            "\n",
            "[(1500 75.0%) 2.3900921630859373]\n",
            "What dne limis,\n",
            "Whathen:\n",
            "Wis welder'd be seet whous rirlOt for sratbllomo lorerof, horhis \n",
            "hor will-m, \n",
            "\n",
            "[(1600 80.0%) 2.5174429321289065]\n",
            "Whe serorute inntn whend thour pofr along roun codery me lovefos the ther age sorve fot werde wathes m \n",
            "\n",
            "[(1700 85.0%) 2.3605891418457032]\n",
            "Whw\n",
            "I mice ound, thostit's pheroongtg tho thahe nett lilts thes il be.\n",
            "Nns ir yot diss yor, bo ir holc \n",
            "\n",
            "[(1800 90.0%) 2.5454525756835937]\n",
            "Whin onr the to the ther, fn messe tirh woroll\n",
            "ber to berdeno,\n",
            "Whas wam nuvorr,\n",
            "Houn than thas sor on  \n",
            "\n",
            "[(1900 95.0%) 2.292060546875]\n",
            "Whele, lom ciclid mere the bular as mersI the wele nous ill yore yow al, dithe he hing and be perthest \n",
            "\n",
            "[(2000 100.0%) 2.1491510009765626]\n",
            "Whit cecaferlit aelb, and steros mo horgd at tousfitraslly tand the pearshaink eel-seand soy or the ke \n",
            "\n",
            "______________________________________________________________\n",
            "The there there ther there the the ther there there the there sore mere the the the the that the there there the ther there sore the therere that the there ther theres and and the ther ther there the th\n"
          ]
        },
        {
          "data": {
            "image/png": "[encoded data removed]",
            "text/plain": [
              "<Figure size 640x480 with 1 Axes>"
            ]
          },
          "metadata": {},
          "output_type": "display_data"
        }
      ],
      "source": [
        "lr = 0.001\n",
        "class LSTM_RNN(RNN):\n",
        "    def __init__(self, *args, **kwargs):\n",
        "        super().__init__(*args, **kwargs)\n",
        "        # Replace the gru cell with LSTM cell\n",
        "        self.rnn_cell = LSTMCell(max_length, hidden_size, max_length)\n",
        "\n",
        "    def init_hidden(self):\n",
        "        # LSTM cells need two hidden variables in a tuple of (h_t,C_t)\n",
        "        return (Variable(torch.zeros(1, 1, self.hidden_size)), Variable(torch.zeros(1, 1, self.hidden_size)))\n",
        "\n",
        "decoder = LSTM_RNN(max_length, hidden_size, max_length)\n",
        "decoder_optimizer = torch.optim.Adam(decoder.parameters(), lr=lr)\n",
        "\n",
        "all_losses = []\n",
        "loss_avg = 0\n",
        "rng = np.random.RandomState(123)\n",
        "\n",
        "for epoch in range(1, n_epochs + 1):\n",
        "    loss = train(*get_random_chunk(file, rng),decoder)\n",
        "    loss_avg += loss\n",
        "\n",
        "    if epoch % print_every == 0:\n",
        "        print(f\"[({epoch} {epoch / n_epochs * 100}%) {loss}]\")\n",
        "        print(evaluate(decoder, 'Wh', 100), '\\n')\n",
        "\n",
        "    if epoch % plot_every == 0:\n",
        "        all_losses.append(loss_avg / plot_every)\n",
        "        loss_avg = 0\n",
        "\n",
        "print(f\"______________________________________________________________\")\n",
        "print(evaluate(decoder, 'Th', 200, temperature=0.2))\n",
        "\n",
        "plt.plot(all_losses)\n",
        "plt.title(\"LSTM Loss: Loss vs Epoch\")\n",
        "plt.xlabel(\"Epoch\")\n",
        "plt.ylabel(\"Loss\")\n",
        "plt.show()"
      ]
    },
    {
      "cell_type": "markdown",
      "metadata": {
        "id": "JLd1t1Y4FcDq"
      },
      "source": [
        "# 4.1 - Implement GRU"
      ]
    },
    {
      "cell_type": "code",
      "execution_count": null,
      "metadata": {
        "id": "vmeCL7AuFcDq"
      },
      "outputs": [],
      "source": [
        "class GRUCell(nn.Module):\n",
        "    def __init__(self, input_size, hidden_size, bias=True):\n",
        "        super(GRUCell, self).__init__()\n",
        "        self.input_size = input_size\n",
        "        self.hidden_size = hidden_size\n",
        "        self.bias = bias\n",
        "\n",
        "        self.h2z = nn.Linear(input_size + hidden_size, hidden_size)\n",
        "        self.h2r = nn.Linear(input_size + hidden_size, hidden_size)\n",
        "        self.h2h = nn.Linear(input_size + hidden_size, hidden_size)\n",
        "\n",
        "        self.reset_parameters()\n",
        "\n",
        "\n",
        "    def reset_parameters(self):\n",
        "        std = 1.0 / np.sqrt(self.hidden_size)\n",
        "        for w in self.parameters():\n",
        "            w.data.uniform_(-std, std)\n",
        "\n",
        "    def forward(self, input, hx=None):\n",
        "        # Inputs:\n",
        "        #       input: of shape (batch_size, input_size)\n",
        "        #       hx: of shape (batch_size, hidden_size)\n",
        "        # Output:\n",
        "        #       h_t, h_t: h_t is of shape (batch_size, hidden_size)\n",
        "\n",
        "        if hx is None:\n",
        "            hx = Variable(input.new_zeros(input.size(0), self.hidden_size))\n",
        "        # Concatenate hidden and input to get h_prime (see torch.cat)\n",
        "        h_prime = torch.cat((hx, input), 2)\n",
        "        # Use self.h2z to calculate z_t\n",
        "        z_t = torch.sigmoid(self.h2z(h_prime))\n",
        "        # Use self.h2r to calculate r_t\n",
        "        r_t = torch.sigmoid(self.h2r(h_prime))\n",
        "        # Use Hadamard product of r_t and hx and concatenate with input, Then use h2h to calculate new hidden information h_tbar\n",
        "        h_tbar = torch.tanh(self.h2h(torch.cat((r_t * hx, input), 2)))\n",
        "        # Update h_t with z_t, hx, and h_tbar\n",
        "        h_t = (1 - z_t) * hx + z_t * h_tbar\n",
        "        # Reshape h_t match input size\n",
        "        h_t = h_t.reshape(1, 1, -1)\n",
        "        \n",
        "        return h_t, h_t   # Output and hidden are both h_t"
      ]
    },
    {
      "cell_type": "code",
      "execution_count": null,
      "metadata": {
        "colab": {
          "base_uri": "https://localhost:8080/",
          "height": 1000
        },
        "id": "KreMhRIlKaWL",
        "outputId": "716100d8-2473-45ea-a357-88a1764c7f24"
      },
      "outputs": [
        {
          "name": "stdout",
          "output_type": "stream",
          "text": [
            "[(100 5.0%) 2.7918072509765626]\n",
            "Wh-siwn limin \n",
            "in\n",
            ", toas yav gislatba-heirs oons alos nouha ee nouYlreswo hid theve't nlr hacd cat e r \n",
            "\n",
            "[(200 10.0%) 2.410317840576172]\n",
            "Whese.\n",
            "\n",
            "Sy any he iner,\n",
            "Wore pou thur wous eoc mame and bll af wille te hatr or heallre win ill\n",
            "N'd wo \n",
            "\n",
            "[(300 15.0%) 2.7197885131835937]\n",
            "Whanger hite.\n",
            "\n",
            "CPERECI:\n",
            "The that thet scenere,\n",
            "Why sethe ont whithe sus:\n",
            "Mord ther sounse in nod thean \n",
            "\n",
            "[(400 20.0%) 2.413846740722656]\n",
            "Why mungture chas thet meres lick an ice.\n",
            "\n",
            "IUG:\n",
            "Lowe and at coing gour she, ant an, sheili dort lowe f \n",
            "\n",
            "[(500 25.0%) 2.1850379943847655]\n",
            "Whard I in the thal wtren and that, me than thil dor his ap gelcerst on the the fold thy you grets\n",
            "RUS \n",
            "\n",
            "[(600 30.0%) 2.0726190185546876]\n",
            "Who due thas, ald the hay made;\n",
            "Ah't rute the hat thy sely the momco, save domy\n",
            "Ard the the thy you al \n",
            "\n",
            "[(700 35.0%) 2.1876202392578126]\n",
            "Wh wers of on sfee hom ald ar I mald undy rmander thou so mall gooplith\n",
            "lod the wat sor you me ou hes  \n",
            "\n",
            "[(800 40.0%) 1.9756118774414062]\n",
            "Whis of hillof of a the wifher the prabe.\n",
            "\n",
            "Firstersser the datle forreds it, welle, wat thence, that d \n",
            "\n",
            "[(900 45.0%) 2.017925567626953]\n",
            "Whad well ERBAsIO:\n",
            "\n",
            "PRRAR:\n",
            "Gay cheres and wrop mabllen, atr KINTARD UL:\n",
            "Well thy warn, hosall cosey be \n",
            "\n",
            "[(1000 50.0%) 2.2284507751464844]\n",
            "Whor stares'd Wall me pose deed\n",
            "Gom a oo arry dome is we bears so bese.\n",
            "\n",
            "For I will as houst.\n",
            "\n",
            "Shere y \n",
            "\n",
            "[(1100 55.00000000000001%) 2.100458984375]\n",
            "Whow, furtsin.\n",
            "\n",
            "GULI'S:\n",
            "\n",
            "LARD IA:\n",
            "I make unground and thot this layster.\n",
            "\n",
            "GROUCELPES:\n",
            "I stay, IG that  \n",
            "\n",
            "[(1200 60.0%) 1.8955227661132812]\n",
            "Wher the dough cuningen word.\n",
            "\n",
            "WIOM:\n",
            "Sinour bet; I peavino tave with the Some cambel:\n",
            "O, I seare but h \n",
            "\n",
            "[(1300 65.0%) 2.100078277587891]\n",
            "Whall in that\n",
            "Thee was har you the garsest are the king sainst to this his,\n",
            "As ulions is them, thear d \n",
            "\n",
            "[(1400 70.0%) 1.9326943969726562]\n",
            "Why sir, I to my!\n",
            "\n",
            "hown dood sweat this coundry-couch my say.\n",
            "\n",
            "ARTOULENT:\n",
            "I ome fintestom.\n",
            "\n",
            "DUKE VINCE \n",
            "\n",
            "[(1500 75.0%) 1.9825172424316406]\n",
            "Whall thou word a me:\n",
            "And hel oo she ghomy fainther chilen must he were;\n",
            "And at strures mad he conest  \n",
            "\n",
            "[(1600 80.0%) 2.0636500549316406]\n",
            "What to the in to it comen myso-joon\n",
            "say, and det diy; a dould And pal wele in to that,\n",
            "For I tenrerin \n",
            "\n",
            "[(1700 85.0%) 1.8673770141601562]\n",
            "Why have me sow not dore put us underting all:\n",
            "I'll leve spell thou haves wetherses have not.\n",
            "\n",
            "GLOUCES \n",
            "\n",
            "[(1800 90.0%) 2.1297430419921874]\n",
            "What,\n",
            "Whes yourss be to the viting wert, I would entous be nor-geres trom dangainss,\n",
            "And for that the  \n",
            "\n",
            "[(1900 95.0%) 1.7534770202636718]\n",
            "Wher, thee would to the houne's lucghed bothave it\n",
            "Of have you faretite now, be me to my;\n",
            "And me some  \n",
            "\n",
            "[(2000 100.0%) 1.5896043395996093]\n",
            "Whicks,\n",
            "Then you soos man laigh man somericeswer, I he woold nit sell shall of serve I adse;\n",
            "Their I s \n",
            "\n",
            "______________________________________________________________\n",
            "Ther and the son mane the son the sone the last and the shall the son the say\n",
            "The say the shall that the son may the say the that the have the caneat and the sours the may shall that some that the good \n"
          ]
        },
        {
          "data": {
            "image/png": "[encoded data removed]",
            "text/plain": [
              "<Figure size 640x480 with 1 Axes>"
            ]
          },
          "metadata": {},
          "output_type": "display_data"
        }
      ],
      "source": [
        "n_epochs = 2000\n",
        "print_every = 100\n",
        "plot_every = 10\n",
        "hidden_size = 100\n",
        "n_layers = 1\n",
        "lr = 0.005\n",
        "max_length = len(all_characters)\n",
        "\n",
        "# Replace the RNN module with implemented GRUcell\n",
        "class GRU_RNN(RNN):\n",
        "    def __init__(self, *args, **kwargs):\n",
        "        super().__init__(*args, **kwargs)\n",
        "        self.rnn_cell = GRUCell(max_length, hidden_size, max_length)\n",
        "\n",
        "\n",
        "decoder = GRU_RNN(max_length, hidden_size, max_length)\n",
        "decoder_optimizer = torch.optim.Adam(decoder.parameters(), lr=lr)\n",
        "\n",
        "all_losses = []\n",
        "loss_avg = 0\n",
        "rng = np.random.RandomState(123)\n",
        "\n",
        "for epoch in range(1, n_epochs + 1):\n",
        "    loss = train(*get_random_chunk(file, rng),decoder)\n",
        "    loss_avg += loss\n",
        "\n",
        "    if epoch % print_every == 0:\n",
        "        print(f\"[({epoch} {epoch / n_epochs * 100}%) {loss}]\")\n",
        "        print(evaluate(decoder, 'Wh', 100), '\\n')\n",
        "\n",
        "    if epoch % plot_every == 0:\n",
        "        all_losses.append(loss_avg / plot_every)\n",
        "        loss_avg = 0\n",
        "\n",
        "print(f\"______________________________________________________________\")\n",
        "print(evaluate(decoder, 'Th', 200, temperature=0.2))\n",
        "\n",
        "plt.plot(all_losses)\n",
        "plt.title(\"GRU Loss: Loss vs Epoch\")\n",
        "plt.xlabel(\"Epoch\")\n",
        "plt.ylabel(\"Loss\")\n",
        "plt.show()"
      ]
    }
  ],
  "metadata": {
    "colab": {
      "provenance": []
    },
    "kernelspec": {
      "display_name": "Python 3",
      "language": "python",
      "name": "python3"
    },
    "language_info": {
      "codemirror_mode": {
        "name": "ipython",
        "version": 3
      },
      "file_extension": ".py",
      "mimetype": "text/x-python",
      "name": "python",
      "nbconvert_exporter": "python",
      "pygments_lexer": "ipython3",
      "version": "3.8.8"
    },
    "vscode": {
      "interpreter": {
        "hash": "b0fa6594d8f4cbf19f97940f81e996739fb7646882a419484c72d19e05852a7e"
      }
    }
  },
  "nbformat": 4,
  "nbformat_minor": 0
}
