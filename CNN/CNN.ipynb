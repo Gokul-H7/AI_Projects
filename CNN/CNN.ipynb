{
  "cells": [
    {
      "cell_type": "markdown",
      "metadata": {
        "id": "zmwWs4S9cRIn"
      },
      "source": [
        "## Background\n",
        "The first part builds two models (one fully connected and one CNN) trained and tested on MNIST dataset. The second part of the project uses the CIFAR-10 dataset which contains images for training a CNN model. The last part uses a pretrained model and tests it on the CIFAR-10 dataset.\n"
      ]
    },
    {
      "cell_type": "markdown",
      "metadata": {},
      "source": [
        "Import necessary packages"
      ]
    },
    {
      "cell_type": "code",
      "execution_count": null,
      "metadata": {
        "id": "arZJNIQ1yPWK"
      },
      "outputs": [],
      "source": [
        "import time\n",
        "from typing import List, Dict\n",
        "\n",
        "import torch\n",
        "import torch.nn as nn\n",
        "import torch.optim as optim\n",
        "import torch.nn.functional as F\n",
        "import torchvision\n",
        "import torchvision.models as models\n",
        "import torchvision.transforms as transforms\n",
        "\n",
        "import matplotlib.pyplot as plt"
      ]
    },
    {
      "cell_type": "markdown",
      "metadata": {
        "id": "Vmlsa88cqmib"
      },
      "source": [
        "Train model using GPU"
      ]
    },
    {
      "cell_type": "code",
      "execution_count": null,
      "metadata": {
        "colab": {
          "base_uri": "https://localhost:8080/"
        },
        "id": "lUdR8v7Kt-6S",
        "outputId": "150c0955-592c-48fb-a2b7-bc04a641da7c"
      },
      "outputs": [
        {
          "name": "stdout",
          "output_type": "stream",
          "text": [
            "input is on cpu\n",
            "model parameters are on [device(type='cpu'), device(type='cpu'), device(type='cpu'), device(type='cpu')]\n",
            "output is on cpu\n",
            "input is on cuda:0\n",
            "model parameters are on [device(type='cuda', index=0), device(type='cuda', index=0), device(type='cuda', index=0), device(type='cuda', index=0)]\n",
            "output is on cuda:0\n"
          ]
        }
      ],
      "source": [
        "rand_tensor = torch.rand(5,2)\n",
        "simple_model = nn.Sequential(nn.Linear(2,10), nn.ReLU(), nn.Linear(10,1))\n",
        "print(f'input is on {rand_tensor.device}')\n",
        "print(f'model parameters are on {[param.device for param in simple_model.parameters()]}')\n",
        "print(f'output is on {simple_model(rand_tensor).device}')\n",
        "\n",
        "# device = torch.device('cuda')\n",
        "device = torch.device('cuda' if torch.cuda.is_available() else 'cpu')\n",
        "# ----------- <Your code> ---------------\n",
        "# Move rand_tensor and model onto the GPU device\n",
        "rand_tensor = rand_tensor.to(device)\n",
        "simple_model = simple_model.to(device)\n",
        "# --------- <End your code> -------------\n",
        "print(f'input is on {rand_tensor.device}')\n",
        "print(f'model parameters are on {[param.device for param in simple_model.parameters()]}')\n",
        "print(f'output is on {simple_model(rand_tensor).device}')"
      ]
    },
    {
      "cell_type": "markdown",
      "metadata": {
        "id": "8zKvxCUayPWO"
      },
      "source": [
        "## 1.1 - Train and test functions\n",
        "#### Arguments:\n",
        "* For the `train` function, it takes the `model`, `loss_fn`, `optimizer`, `train_loader`, and `epoch` as arguments.\n",
        "    * `model`: the classifier, or deep neural network, should be an instance of `nn.Module`.\n",
        "    * `loss_fn`: the loss function instance. \n",
        "    * `optimizer`: should be an instance of `torch.optim.Optimizer`.\n",
        "    * `train_loader`: should be an instance of `torch.utils.data.DataLoader`.\n",
        "    * `epoch`: the current number of epoch. Only used for log printing.\n",
        "\n",
        "* For the `test` function, it takes all the inputs above except for the optimizer (and it takes a test loader instead of a train loader)."
      ]
    },
    {
      "cell_type": "code",
      "execution_count": null,
      "metadata": {
        "id": "QtKvYlD2yPWO"
      },
      "outputs": [],
      "source": [
        "def train(model: nn.Module,\n",
        "          loss_fn: nn.modules.loss._Loss,\n",
        "          optimizer: torch.optim.Optimizer,\n",
        "          train_loader: torch.utils.data.DataLoader,\n",
        "          epoch: int=0)-> List:\n",
        "    train_loss = []\n",
        "    model.train()\n",
        "    for batch_idx, (images, targets) in enumerate(train_loader):\n",
        "        images, targets = images.to(device), targets.to(device)\n",
        "        optimizer.zero_grad()\n",
        "        outputs = model(images)\n",
        "        loss = loss_fn(outputs, targets)\n",
        "        loss.backward()\n",
        "        optimizer.step()\n",
        "        train_loss.append(loss.item())\n",
        "        if batch_idx % 100 == 0:\n",
        "            print(f'Epoch {epoch}: [{batch_idx*len(images)}/{len(train_loader.dataset)}] Loss: {loss.item():.3f}')\n",
        "    assert len(train_loss) == len(train_loader)\n",
        "    return train_loss\n",
        "\n",
        "def test(model: nn.Module,\n",
        "         loss_fn: nn.modules.loss._Loss,\n",
        "         test_loader: torch.utils.data.DataLoader,\n",
        "         epoch: int=0)-> Dict:\n",
        "    model.eval()\n",
        "    test_loss = 0\n",
        "    correct = 0\n",
        "    prediction = torch.tensor([]).to(device)\n",
        "    with torch.no_grad():\n",
        "        for images, targets in test_loader:\n",
        "            images, targets = images.to(device), targets.to(device)\n",
        "            outputs = model(images)\n",
        "            test_loss += loss_fn(outputs, targets).item()\n",
        "            pred = outputs.argmax(dim=1, keepdim=True)\n",
        "            correct += pred.eq(targets.view_as(pred)).sum().item()\n",
        "            prediction = torch.cat((prediction, pred.view(-1)))\n",
        "    test_loss /= len(test_loader.dataset)\n",
        "    accuracy = correct / len(test_loader.dataset)\n",
        "    test_stat = {\"loss\": test_loss, \"accuracy\": accuracy, \"prediction\": prediction}\n",
        "    print(f\"Test result on epoch {epoch}: total sample: {len(test_loader.dataset)}, Avg loss: {test_loss:.3f}, Acc: {100*accuracy:.3f}%\")\n",
        "\n",
        "    # dictionary includes loss, accuracy and prediction\n",
        "    assert \"loss\" and \"accuracy\" and \"prediction\" in test_stat.keys()\n",
        "    # \"prediction\" value should be a 1D tensor\n",
        "    assert len(test_stat[\"prediction\"]) == len(test_loader.dataset)\n",
        "    assert isinstance(test_stat[\"prediction\"], torch.Tensor)\n",
        "    return test_stat\n"
      ]
    },
    {
      "cell_type": "markdown",
      "metadata": {
        "id": "DFKqew7r-E-q"
      },
      "source": [
        "## 1.2 - Create FC network and CNN network\n",
        "\n",
        "Training and Testing will be done using the MNIST dataset."
      ]
    },
    {
      "cell_type": "code",
      "execution_count": null,
      "metadata": {
        "colab": {
          "base_uri": "https://localhost:8080/"
        },
        "id": "8XfvgD-jt-Ye",
        "outputId": "bb02d377-55aa-40fd-d7c1-d69bf6b3cab0"
      },
      "outputs": [
        {
          "name": "stdout",
          "output_type": "stream",
          "text": [
            "Downloading http://yann.lecun.com/exdb/mnist/train-images-idx3-ubyte.gz\n",
            "Downloading http://yann.lecun.com/exdb/mnist/train-images-idx3-ubyte.gz to ./data/MNIST/raw/train-images-idx3-ubyte.gz\n"
          ]
        },
        {
          "name": "stderr",
          "output_type": "stream",
          "text": [
            "100%|██████████| 9912422/9912422 [00:00<00:00, 340226769.59it/s]"
          ]
        },
        {
          "name": "stdout",
          "output_type": "stream",
          "text": [
            "Extracting ./data/MNIST/raw/train-images-idx3-ubyte.gz to ./data/MNIST/raw\n"
          ]
        },
        {
          "name": "stderr",
          "output_type": "stream",
          "text": [
            "\n"
          ]
        },
        {
          "name": "stdout",
          "output_type": "stream",
          "text": [
            "\n",
            "Downloading http://yann.lecun.com/exdb/mnist/train-labels-idx1-ubyte.gz\n",
            "Downloading http://yann.lecun.com/exdb/mnist/train-labels-idx1-ubyte.gz to ./data/MNIST/raw/train-labels-idx1-ubyte.gz\n"
          ]
        },
        {
          "name": "stderr",
          "output_type": "stream",
          "text": [
            "100%|██████████| 28881/28881 [00:00<00:00, 50242925.68it/s]\n"
          ]
        },
        {
          "name": "stdout",
          "output_type": "stream",
          "text": [
            "Extracting ./data/MNIST/raw/train-labels-idx1-ubyte.gz to ./data/MNIST/raw\n",
            "\n",
            "Downloading http://yann.lecun.com/exdb/mnist/t10k-images-idx3-ubyte.gz\n",
            "Downloading http://yann.lecun.com/exdb/mnist/t10k-images-idx3-ubyte.gz to ./data/MNIST/raw/t10k-images-idx3-ubyte.gz\n"
          ]
        },
        {
          "name": "stderr",
          "output_type": "stream",
          "text": [
            "100%|██████████| 1648877/1648877 [00:00<00:00, 208536105.31it/s]\n"
          ]
        },
        {
          "name": "stdout",
          "output_type": "stream",
          "text": [
            "Extracting ./data/MNIST/raw/t10k-images-idx3-ubyte.gz to ./data/MNIST/raw\n",
            "\n",
            "Downloading http://yann.lecun.com/exdb/mnist/t10k-labels-idx1-ubyte.gz\n",
            "Downloading http://yann.lecun.com/exdb/mnist/t10k-labels-idx1-ubyte.gz to ./data/MNIST/raw/t10k-labels-idx1-ubyte.gz\n"
          ]
        },
        {
          "name": "stderr",
          "output_type": "stream",
          "text": [
            "100%|██████████| 4542/4542 [00:00<00:00, 9324781.58it/s]"
          ]
        },
        {
          "name": "stdout",
          "output_type": "stream",
          "text": [
            "Extracting ./data/MNIST/raw/t10k-labels-idx1-ubyte.gz to ./data/MNIST/raw\n",
            "\n"
          ]
        },
        {
          "name": "stderr",
          "output_type": "stream",
          "text": [
            "\n"
          ]
        }
      ],
      "source": [
        "# Download MNIST and transformation\n",
        "transform = transforms.Compose([transforms.ToTensor(), transforms.Normalize((0.5,), (0.5,))])\n",
        "train_set = torchvision.datasets.MNIST(root='./data', train=True, download=True, transform=transform)\n",
        "test_set = torchvision.datasets.MNIST(root='./data', train=False, download=True, transform=transform)\n",
        "train_loader = torch.utils.data.DataLoader(train_set, batch_size=64, shuffle=True)\n",
        "test_loader = torch.utils.data.DataLoader(test_set, batch_size=1000, shuffle=False)"
      ]
    },
    {
      "cell_type": "code",
      "execution_count": null,
      "metadata": {
        "id": "ccYESqrsxNXA"
      },
      "outputs": [],
      "source": [
        "# Build OurFC class and OurCNN class.\n",
        "class OurFC(nn.Module):\n",
        "    def __init__(self):\n",
        "        super(OurFC, self).__init__()\n",
        "        self.fc1 = nn.Linear(28*28, 256)\n",
        "        self.fc2 = nn.Linear(256, 128)\n",
        "        self.fc3 = nn.Linear(128, 10)\n",
        "\n",
        "    def forward(self, x):\n",
        "        x = x.view(-1, 28*28)\n",
        "        x = F.relu(self.fc1(x))\n",
        "        x = F.relu(self.fc2(x))\n",
        "        x = self.fc3(x)\n",
        "        return x\n",
        "\n",
        "class OurCNN(nn.Module):\n",
        "    def __init__(self):\n",
        "        super(OurCNN, self).__init__()\n",
        "        self.conv1 = nn.Conv2d(1, 16, kernel_size=5)\n",
        "        self.conv2 = nn.Conv2d(16, 32, kernel_size=5)\n",
        "        self.fc1 = nn.Linear(32*4*4, 128)\n",
        "        self.fc2 = nn.Linear(128, 10)\n",
        "\n",
        "    def forward(self, x):\n",
        "        x = F.relu(F.max_pool2d(self.conv1(x), 2))\n",
        "        x = F.relu(F.max_pool2d(self.conv2(x), 2))\n",
        "        x = x.view(-1, 32*4*4)\n",
        "        x = F.relu(self.fc1(x))\n",
        "        x = self.fc2(x)\n",
        "        return x\n"
      ]
    },
    {
      "cell_type": "code",
      "execution_count": null,
      "metadata": {
        "colab": {
          "base_uri": "https://localhost:8080/"
        },
        "id": "TxhAyKGCx_iC",
        "outputId": "234cb9b9-b7d2-4984-927e-976fadd14c0b"
      },
      "outputs": [
        {
          "name": "stdout",
          "output_type": "stream",
          "text": [
            "Epoch 0: [0/60000] Loss: 2.273\n",
            "Epoch 0: [6400/60000] Loss: 0.565\n",
            "Epoch 0: [12800/60000] Loss: 0.512\n",
            "Epoch 0: [19200/60000] Loss: 0.229\n",
            "Epoch 0: [25600/60000] Loss: 0.197\n",
            "Epoch 0: [32000/60000] Loss: 0.214\n",
            "Epoch 0: [38400/60000] Loss: 0.163\n",
            "Epoch 0: [44800/60000] Loss: 0.177\n",
            "Epoch 0: [51200/60000] Loss: 0.126\n",
            "Epoch 0: [57600/60000] Loss: 0.069\n",
            "Test result on epoch 0: total sample: 10000, Avg loss: 0.000, Acc: 94.250%\n",
            "Epoch 1: [0/60000] Loss: 0.266\n",
            "Epoch 1: [6400/60000] Loss: 0.185\n",
            "Epoch 1: [12800/60000] Loss: 0.101\n",
            "Epoch 1: [19200/60000] Loss: 0.233\n",
            "Epoch 1: [25600/60000] Loss: 0.032\n",
            "Epoch 1: [32000/60000] Loss: 0.102\n",
            "Epoch 1: [38400/60000] Loss: 0.146\n",
            "Epoch 1: [44800/60000] Loss: 0.064\n",
            "Epoch 1: [51200/60000] Loss: 0.293\n",
            "Epoch 1: [57600/60000] Loss: 0.389\n",
            "Test result on epoch 1: total sample: 10000, Avg loss: 0.000, Acc: 95.820%\n",
            "Epoch 2: [0/60000] Loss: 0.126\n",
            "Epoch 2: [6400/60000] Loss: 0.059\n",
            "Epoch 2: [12800/60000] Loss: 0.126\n",
            "Epoch 2: [19200/60000] Loss: 0.053\n",
            "Epoch 2: [25600/60000] Loss: 0.050\n",
            "Epoch 2: [32000/60000] Loss: 0.054\n",
            "Epoch 2: [38400/60000] Loss: 0.046\n",
            "Epoch 2: [44800/60000] Loss: 0.063\n",
            "Epoch 2: [51200/60000] Loss: 0.091\n",
            "Epoch 2: [57600/60000] Loss: 0.141\n",
            "Test result on epoch 2: total sample: 10000, Avg loss: 0.000, Acc: 96.660%\n",
            "Epoch 3: [0/60000] Loss: 0.096\n",
            "Epoch 3: [6400/60000] Loss: 0.274\n",
            "Epoch 3: [12800/60000] Loss: 0.146\n",
            "Epoch 3: [19200/60000] Loss: 0.143\n",
            "Epoch 3: [25600/60000] Loss: 0.053\n",
            "Epoch 3: [32000/60000] Loss: 0.116\n",
            "Epoch 3: [38400/60000] Loss: 0.181\n",
            "Epoch 3: [44800/60000] Loss: 0.042\n",
            "Epoch 3: [51200/60000] Loss: 0.099\n",
            "Epoch 3: [57600/60000] Loss: 0.026\n",
            "Test result on epoch 3: total sample: 10000, Avg loss: 0.000, Acc: 96.370%\n",
            "Finished Training after 71.0440514087677 s \n"
          ]
        }
      ],
      "source": [
        "# Train FC model\n",
        "criterion = nn.CrossEntropyLoss()\n",
        "\n",
        "start = time.time()\n",
        "max_epoch = 4\n",
        "fc_model = OurFC().to(device)\n",
        "optimizer = optim.Adam(fc_model.parameters(), lr=0.001)\n",
        "train_loss = []\n",
        "for epoch in range(max_epoch):\n",
        "    train_loss += train(fc_model, criterion, optimizer, train_loader, epoch)\n",
        "    test(fc_model, criterion, test_loader, epoch)\n",
        "    \n",
        "end = time.time()\n",
        "print(f'Finished Training after {end-start} s ')"
      ]
    },
    {
      "cell_type": "code",
      "execution_count": null,
      "metadata": {
        "colab": {
          "base_uri": "https://localhost:8080/"
        },
        "id": "DX8q9Dtqylks",
        "outputId": "3f770ee4-5246-4b6b-e444-742529ce3b9c"
      },
      "outputs": [
        {
          "name": "stdout",
          "output_type": "stream",
          "text": [
            "Epoch 0: [0/60000] Loss: 2.307\n",
            "Epoch 0: [6400/60000] Loss: 0.210\n",
            "Epoch 0: [12800/60000] Loss: 0.128\n",
            "Epoch 0: [19200/60000] Loss: 0.106\n",
            "Epoch 0: [25600/60000] Loss: 0.125\n",
            "Epoch 0: [32000/60000] Loss: 0.168\n",
            "Epoch 0: [38400/60000] Loss: 0.058\n",
            "Epoch 0: [44800/60000] Loss: 0.055\n",
            "Epoch 0: [51200/60000] Loss: 0.030\n",
            "Epoch 0: [57600/60000] Loss: 0.052\n",
            "Test result on epoch 0: total sample: 10000, Avg loss: 0.000, Acc: 98.310%\n",
            "Epoch 1: [0/60000] Loss: 0.045\n",
            "Epoch 1: [6400/60000] Loss: 0.125\n",
            "Epoch 1: [12800/60000] Loss: 0.114\n",
            "Epoch 1: [19200/60000] Loss: 0.023\n",
            "Epoch 1: [25600/60000] Loss: 0.077\n",
            "Epoch 1: [32000/60000] Loss: 0.031\n",
            "Epoch 1: [38400/60000] Loss: 0.128\n",
            "Epoch 1: [44800/60000] Loss: 0.040\n",
            "Epoch 1: [51200/60000] Loss: 0.005\n",
            "Epoch 1: [57600/60000] Loss: 0.013\n",
            "Test result on epoch 1: total sample: 10000, Avg loss: 0.000, Acc: 98.640%\n",
            "Epoch 2: [0/60000] Loss: 0.148\n",
            "Epoch 2: [6400/60000] Loss: 0.023\n",
            "Epoch 2: [12800/60000] Loss: 0.023\n",
            "Epoch 2: [19200/60000] Loss: 0.043\n",
            "Epoch 2: [25600/60000] Loss: 0.007\n",
            "Epoch 2: [32000/60000] Loss: 0.067\n",
            "Epoch 2: [38400/60000] Loss: 0.049\n",
            "Epoch 2: [44800/60000] Loss: 0.031\n",
            "Epoch 2: [51200/60000] Loss: 0.039\n",
            "Epoch 2: [57600/60000] Loss: 0.009\n",
            "Test result on epoch 2: total sample: 10000, Avg loss: 0.000, Acc: 98.930%\n",
            "Epoch 3: [0/60000] Loss: 0.041\n",
            "Epoch 3: [6400/60000] Loss: 0.044\n",
            "Epoch 3: [12800/60000] Loss: 0.012\n",
            "Epoch 3: [19200/60000] Loss: 0.026\n",
            "Epoch 3: [25600/60000] Loss: 0.002\n",
            "Epoch 3: [32000/60000] Loss: 0.018\n",
            "Epoch 3: [38400/60000] Loss: 0.007\n",
            "Epoch 3: [44800/60000] Loss: 0.021\n",
            "Epoch 3: [51200/60000] Loss: 0.025\n",
            "Epoch 3: [57600/60000] Loss: 0.043\n",
            "Test result on epoch 3: total sample: 10000, Avg loss: 0.000, Acc: 99.180%\n",
            "Finished Training after 72.94906115531921 s \n"
          ]
        }
      ],
      "source": [
        "# train CNN model\n",
        "start = time.time()\n",
        "cnn_model = OurCNN().to(device)\n",
        "optimizer = optim.Adam(cnn_model.parameters(), lr=0.001)\n",
        "train_loss = []\n",
        "for epoch in range(1, max_epoch + 1):\n",
        "    train_loss += train(cnn_model, criterion, optimizer, train_loader, epoch)\n",
        "    test(cnn_model, criterion, test_loader, epoch)\n",
        "\n",
        "end = time.time()\n",
        "print(f'Finished Training after {end-start} s ')"
      ]
    },
    {
      "cell_type": "code",
      "execution_count": null,
      "metadata": {
        "id": "FIVO5T4JgA_N"
      },
      "outputs": [],
      "source": [
        "ourfc = OurFC()\n",
        "total_params = sum(p.numel() for p in ourfc.parameters())\n",
        "print(f'OurFC has a total of {total_params} parameters')\n",
        "\n",
        "ourcnn = OurCNN()\n",
        "total_params = sum(p.numel() for p in ourcnn.parameters())\n",
        "print(f'OurCNN has a total of {total_params} parameters')"
      ]
    },
    {
      "cell_type": "markdown",
      "metadata": {
        "id": "290mOBEHgEXr"
      },
      "source": [
        "## 2.1 - Train classifier on CIFAR-10 data"
      ]
    },
    {
      "cell_type": "code",
      "execution_count": null,
      "metadata": {
        "colab": {
          "base_uri": "https://localhost:8080/",
          "height": 821
        },
        "id": "ANpwc7CSPlYP",
        "outputId": "22bb5642-76f4-4aca-c722-ec4ff9fb518c"
      },
      "outputs": [
        {
          "name": "stdout",
          "output_type": "stream",
          "text": [
            "Downloading https://www.cs.toronto.edu/~kriz/cifar-10-python.tar.gz to ./data/cifar-10-python.tar.gz\n"
          ]
        },
        {
          "name": "stderr",
          "output_type": "stream",
          "text": [
            "100%|██████████| 170498071/170498071 [00:13<00:00, 12398780.68it/s]\n"
          ]
        },
        {
          "name": "stdout",
          "output_type": "stream",
          "text": [
            "Extracting ./data/cifar-10-python.tar.gz to ./data\n",
            "Files already downloaded and verified\n"
          ]
        },
        {
          "data": {
            "image/png": "[encoded data removed]",
            "text/plain": [
              "<Figure size 900x900 with 9 Axes>"
            ]
          },
          "metadata": {},
          "output_type": "display_data"
        }
      ],
      "source": [
        "classes = ('plane', 'car', 'bird', 'cat', 'deer', 'dog', 'frog', 'horse', 'ship', 'truck')\n",
        "\n",
        "# Create the appropriate transform, load/download CIFAR10 train and test datasets with transform\n",
        "transform = transforms.Compose([transforms.ToTensor(), transforms.Normalize((0.5, 0.5, 0.5), (0.5, 0.5, 0.5))])\n",
        "train_set = torchvision.datasets.CIFAR10(root='./data', train=True, download=True, transform=transform)\n",
        "test_set = torchvision.datasets.CIFAR10(root='./data', train=False, download=True, transform=transform)\n",
        "\n",
        "# Define trainloader and testloader\n",
        "train_loader = torch.utils.data.DataLoader(train_set, batch_size=9, shuffle=True)\n",
        "test_loader = torch.utils.data.DataLoader(test_set, batch_size=9, shuffle=False)\n",
        "\n",
        "# Code to display images\n",
        "batch_idx, (images, targets) = next(enumerate(train_loader)) #fix!!!!!\n",
        "fig, ax = plt.subplots(3,3,figsize = (9,9))\n",
        "for i in range(3):\n",
        "    for j in range(3):\n",
        "        image = images[i*3+j].permute(1,2,0)\n",
        "        image = image/2 + 0.5\n",
        "        ax[i,j].imshow(image)\n",
        "        ax[i,j].set_axis_off()\n",
        "        ax[i,j].set_title(f'{classes[targets[i*3+j]]}')\n",
        "fig.show()"
      ]
    },
    {
      "cell_type": "markdown",
      "metadata": {
        "id": "f0FMDyDzijEG"
      },
      "source": [
        "## Task 2.2 - Create and train CNN"
      ]
    },
    {
      "cell_type": "code",
      "execution_count": null,
      "metadata": {
        "id": "a1pkwtIAzwfg"
      },
      "outputs": [],
      "source": [
        "# Create CNN network.\n",
        "class OurCIFAR_CNN(nn.Module):\n",
        "    def __init__(self):\n",
        "        super(OurCIFAR_CNN, self).__init__()\n",
        "        self.conv1 = nn.Conv2d(3, 16, kernel_size=5)\n",
        "        self.conv2 = nn.Conv2d(16, 32, kernel_size=5)\n",
        "        self.fc1 = nn.Linear(32*5*5, 128)\n",
        "        self.fc2 = nn.Linear(128, 64)\n",
        "        self.fc3 = nn.Linear(64, 10)\n",
        "\n",
        "    def forward(self, x):\n",
        "        x = F.relu(F.max_pool2d(self.conv1(x), 2))\n",
        "        x = F.relu(F.max_pool2d(self.conv2(x), 2))\n",
        "        x = x.view(-1, 32*5*5)\n",
        "        x = F.relu(self.fc1(x))\n",
        "        x = F.relu(self.fc2(x))\n",
        "        x = self.fc3(x)\n",
        "        return x"
      ]
    },
    {
      "cell_type": "code",
      "execution_count": null,
      "metadata": {
        "colab": {
          "base_uri": "https://localhost:8080/"
        },
        "id": "cRuEf8tAlnsP",
        "outputId": "4d8316c1-8415-4b71-9110-aba6ec52ecba"
      },
      "outputs": [
        {
          "name": "stdout",
          "output_type": "stream",
          "text": [
            "Epoch 0: [0/50000] Loss: 2.273\n",
            "Epoch 0: [900/50000] Loss: 2.226\n",
            "Epoch 0: [1800/50000] Loss: 1.962\n",
            "Epoch 0: [2700/50000] Loss: 2.030\n",
            "Epoch 0: [3600/50000] Loss: 1.941\n",
            "Epoch 0: [4500/50000] Loss: 1.462\n",
            "Epoch 0: [5400/50000] Loss: 1.589\n",
            "Epoch 0: [6300/50000] Loss: 2.141\n",
            "Epoch 0: [7200/50000] Loss: 1.520\n",
            "Epoch 0: [8100/50000] Loss: 1.501\n",
            "Epoch 0: [9000/50000] Loss: 1.904\n",
            "Epoch 0: [9900/50000] Loss: 1.905\n",
            "Epoch 0: [10800/50000] Loss: 1.201\n",
            "Epoch 0: [11700/50000] Loss: 1.499\n",
            "Epoch 0: [12600/50000] Loss: 1.264\n",
            "Epoch 0: [13500/50000] Loss: 1.388\n",
            "Epoch 0: [14400/50000] Loss: 1.221\n",
            "Epoch 0: [15300/50000] Loss: 1.021\n",
            "Epoch 0: [16200/50000] Loss: 1.172\n",
            "Epoch 0: [17100/50000] Loss: 1.163\n",
            "Epoch 0: [18000/50000] Loss: 1.096\n",
            "Epoch 0: [18900/50000] Loss: 1.482\n",
            "Epoch 0: [19800/50000] Loss: 1.370\n",
            "Epoch 0: [20700/50000] Loss: 2.112\n",
            "Epoch 0: [21600/50000] Loss: 1.705\n",
            "Epoch 0: [22500/50000] Loss: 1.681\n",
            "Epoch 0: [23400/50000] Loss: 1.595\n",
            "Epoch 0: [24300/50000] Loss: 1.384\n",
            "Epoch 0: [25200/50000] Loss: 1.131\n",
            "Epoch 0: [26100/50000] Loss: 1.943\n",
            "Epoch 0: [27000/50000] Loss: 1.338\n",
            "Epoch 0: [27900/50000] Loss: 1.461\n",
            "Epoch 0: [28800/50000] Loss: 1.618\n",
            "Epoch 0: [29700/50000] Loss: 1.306\n",
            "Epoch 0: [30600/50000] Loss: 1.549\n",
            "Epoch 0: [31500/50000] Loss: 0.865\n",
            "Epoch 0: [32400/50000] Loss: 1.366\n",
            "Epoch 0: [33300/50000] Loss: 1.357\n",
            "Epoch 0: [34200/50000] Loss: 0.962\n",
            "Epoch 0: [35100/50000] Loss: 1.190\n",
            "Epoch 0: [36000/50000] Loss: 0.926\n",
            "Epoch 0: [36900/50000] Loss: 1.342\n",
            "Epoch 0: [37800/50000] Loss: 1.267\n",
            "Epoch 0: [38700/50000] Loss: 1.758\n",
            "Epoch 0: [39600/50000] Loss: 1.275\n",
            "Epoch 0: [40500/50000] Loss: 1.561\n",
            "Epoch 0: [41400/50000] Loss: 1.058\n",
            "Epoch 0: [42300/50000] Loss: 1.657\n",
            "Epoch 0: [43200/50000] Loss: 2.101\n",
            "Epoch 0: [44100/50000] Loss: 1.358\n",
            "Epoch 0: [45000/50000] Loss: 1.411\n",
            "Epoch 0: [45900/50000] Loss: 0.943\n",
            "Epoch 0: [46800/50000] Loss: 1.121\n",
            "Epoch 0: [47700/50000] Loss: 1.792\n",
            "Epoch 0: [48600/50000] Loss: 1.573\n",
            "Epoch 0: [49500/50000] Loss: 1.784\n",
            "Epoch 1: [0/50000] Loss: 1.212\n",
            "Epoch 1: [900/50000] Loss: 0.844\n",
            "Epoch 1: [1800/50000] Loss: 1.123\n",
            "Epoch 1: [2700/50000] Loss: 0.841\n",
            "Epoch 1: [3600/50000] Loss: 1.224\n",
            "Epoch 1: [4500/50000] Loss: 1.008\n",
            "Epoch 1: [5400/50000] Loss: 1.284\n",
            "Epoch 1: [6300/50000] Loss: 1.791\n",
            "Epoch 1: [7200/50000] Loss: 1.299\n",
            "Epoch 1: [8100/50000] Loss: 1.047\n",
            "Epoch 1: [9000/50000] Loss: 0.794\n",
            "Epoch 1: [9900/50000] Loss: 1.197\n",
            "Epoch 1: [10800/50000] Loss: 1.189\n",
            "Epoch 1: [11700/50000] Loss: 1.385\n",
            "Epoch 1: [12600/50000] Loss: 0.898\n",
            "Epoch 1: [13500/50000] Loss: 0.904\n",
            "Epoch 1: [14400/50000] Loss: 1.366\n",
            "Epoch 1: [15300/50000] Loss: 1.102\n",
            "Epoch 1: [16200/50000] Loss: 1.585\n",
            "Epoch 1: [17100/50000] Loss: 0.823\n",
            "Epoch 1: [18000/50000] Loss: 1.117\n",
            "Epoch 1: [18900/50000] Loss: 0.683\n",
            "Epoch 1: [19800/50000] Loss: 1.161\n",
            "Epoch 1: [20700/50000] Loss: 1.055\n",
            "Epoch 1: [21600/50000] Loss: 1.316\n",
            "Epoch 1: [22500/50000] Loss: 0.778\n",
            "Epoch 1: [23400/50000] Loss: 1.490\n",
            "Epoch 1: [24300/50000] Loss: 1.123\n",
            "Epoch 1: [25200/50000] Loss: 0.800\n",
            "Epoch 1: [26100/50000] Loss: 1.591\n",
            "Epoch 1: [27000/50000] Loss: 1.340\n",
            "Epoch 1: [27900/50000] Loss: 0.747\n",
            "Epoch 1: [28800/50000] Loss: 1.290\n",
            "Epoch 1: [29700/50000] Loss: 1.335\n",
            "Epoch 1: [30600/50000] Loss: 1.550\n",
            "Epoch 1: [31500/50000] Loss: 1.309\n",
            "Epoch 1: [32400/50000] Loss: 0.785\n",
            "Epoch 1: [33300/50000] Loss: 0.834\n",
            "Epoch 1: [34200/50000] Loss: 1.378\n",
            "Epoch 1: [35100/50000] Loss: 0.982\n",
            "Epoch 1: [36000/50000] Loss: 1.485\n",
            "Epoch 1: [36900/50000] Loss: 0.725\n",
            "Epoch 1: [37800/50000] Loss: 0.937\n",
            "Epoch 1: [38700/50000] Loss: 1.242\n",
            "Epoch 1: [39600/50000] Loss: 1.151\n",
            "Epoch 1: [40500/50000] Loss: 1.397\n",
            "Epoch 1: [41400/50000] Loss: 1.107\n",
            "Epoch 1: [42300/50000] Loss: 1.501\n",
            "Epoch 1: [43200/50000] Loss: 1.645\n",
            "Epoch 1: [44100/50000] Loss: 1.039\n",
            "Epoch 1: [45000/50000] Loss: 2.099\n",
            "Epoch 1: [45900/50000] Loss: 1.391\n",
            "Epoch 1: [46800/50000] Loss: 0.631\n",
            "Epoch 1: [47700/50000] Loss: 1.850\n",
            "Epoch 1: [48600/50000] Loss: 1.109\n",
            "Epoch 1: [49500/50000] Loss: 0.606\n",
            "Epoch 2: [0/50000] Loss: 0.882\n",
            "Epoch 2: [900/50000] Loss: 0.675\n",
            "Epoch 2: [1800/50000] Loss: 0.882\n",
            "Epoch 2: [2700/50000] Loss: 0.729\n",
            "Epoch 2: [3600/50000] Loss: 1.059\n",
            "Epoch 2: [4500/50000] Loss: 0.722\n",
            "Epoch 2: [5400/50000] Loss: 0.563\n",
            "Epoch 2: [6300/50000] Loss: 0.499\n",
            "Epoch 2: [7200/50000] Loss: 1.039\n",
            "Epoch 2: [8100/50000] Loss: 1.244\n",
            "Epoch 2: [9000/50000] Loss: 1.240\n",
            "Epoch 2: [9900/50000] Loss: 0.886\n",
            "Epoch 2: [10800/50000] Loss: 0.574\n",
            "Epoch 2: [11700/50000] Loss: 1.373\n",
            "Epoch 2: [12600/50000] Loss: 1.217\n",
            "Epoch 2: [13500/50000] Loss: 1.083\n",
            "Epoch 2: [14400/50000] Loss: 0.845\n",
            "Epoch 2: [15300/50000] Loss: 0.482\n",
            "Epoch 2: [16200/50000] Loss: 1.298\n",
            "Epoch 2: [17100/50000] Loss: 0.442\n",
            "Epoch 2: [18000/50000] Loss: 0.534\n",
            "Epoch 2: [18900/50000] Loss: 1.003\n",
            "Epoch 2: [19800/50000] Loss: 0.823\n",
            "Epoch 2: [20700/50000] Loss: 1.345\n",
            "Epoch 2: [21600/50000] Loss: 0.804\n",
            "Epoch 2: [22500/50000] Loss: 1.045\n",
            "Epoch 2: [23400/50000] Loss: 0.998\n",
            "Epoch 2: [24300/50000] Loss: 0.320\n",
            "Epoch 2: [25200/50000] Loss: 1.226\n",
            "Epoch 2: [26100/50000] Loss: 0.636\n",
            "Epoch 2: [27000/50000] Loss: 1.134\n",
            "Epoch 2: [27900/50000] Loss: 1.373\n",
            "Epoch 2: [28800/50000] Loss: 1.704\n",
            "Epoch 2: [29700/50000] Loss: 0.678\n",
            "Epoch 2: [30600/50000] Loss: 1.417\n",
            "Epoch 2: [31500/50000] Loss: 0.846\n",
            "Epoch 2: [32400/50000] Loss: 0.476\n",
            "Epoch 2: [33300/50000] Loss: 0.615\n",
            "Epoch 2: [34200/50000] Loss: 1.150\n",
            "Epoch 2: [35100/50000] Loss: 1.471\n",
            "Epoch 2: [36000/50000] Loss: 1.561\n",
            "Epoch 2: [36900/50000] Loss: 0.918\n",
            "Epoch 2: [37800/50000] Loss: 0.428\n",
            "Epoch 2: [38700/50000] Loss: 0.849\n",
            "Epoch 2: [39600/50000] Loss: 0.735\n",
            "Epoch 2: [40500/50000] Loss: 0.298\n",
            "Epoch 2: [41400/50000] Loss: 0.486\n",
            "Epoch 2: [42300/50000] Loss: 0.951\n",
            "Epoch 2: [43200/50000] Loss: 0.670\n",
            "Epoch 2: [44100/50000] Loss: 1.133\n",
            "Epoch 2: [45000/50000] Loss: 0.781\n",
            "Epoch 2: [45900/50000] Loss: 0.808\n",
            "Epoch 2: [46800/50000] Loss: 1.454\n",
            "Epoch 2: [47700/50000] Loss: 0.885\n",
            "Epoch 2: [48600/50000] Loss: 0.951\n",
            "Epoch 2: [49500/50000] Loss: 1.424\n",
            "Epoch 3: [0/50000] Loss: 0.979\n",
            "Epoch 3: [900/50000] Loss: 0.865\n",
            "Epoch 3: [1800/50000] Loss: 1.336\n",
            "Epoch 3: [2700/50000] Loss: 1.000\n",
            "Epoch 3: [3600/50000] Loss: 0.718\n",
            "Epoch 3: [4500/50000] Loss: 1.185\n",
            "Epoch 3: [5400/50000] Loss: 1.248\n",
            "Epoch 3: [6300/50000] Loss: 0.906\n",
            "Epoch 3: [7200/50000] Loss: 1.023\n",
            "Epoch 3: [8100/50000] Loss: 0.658\n",
            "Epoch 3: [9000/50000] Loss: 0.907\n",
            "Epoch 3: [9900/50000] Loss: 1.084\n",
            "Epoch 3: [10800/50000] Loss: 0.789\n",
            "Epoch 3: [11700/50000] Loss: 0.751\n",
            "Epoch 3: [12600/50000] Loss: 0.852\n",
            "Epoch 3: [13500/50000] Loss: 0.852\n",
            "Epoch 3: [14400/50000] Loss: 1.036\n",
            "Epoch 3: [15300/50000] Loss: 0.772\n",
            "Epoch 3: [16200/50000] Loss: 0.714\n",
            "Epoch 3: [17100/50000] Loss: 0.864\n",
            "Epoch 3: [18000/50000] Loss: 1.274\n",
            "Epoch 3: [18900/50000] Loss: 2.055\n",
            "Epoch 3: [19800/50000] Loss: 0.583\n",
            "Epoch 3: [20700/50000] Loss: 0.738\n",
            "Epoch 3: [21600/50000] Loss: 1.239\n",
            "Epoch 3: [22500/50000] Loss: 0.714\n",
            "Epoch 3: [23400/50000] Loss: 0.717\n",
            "Epoch 3: [24300/50000] Loss: 0.681\n",
            "Epoch 3: [25200/50000] Loss: 0.413\n",
            "Epoch 3: [26100/50000] Loss: 1.344\n",
            "Epoch 3: [27000/50000] Loss: 1.204\n",
            "Epoch 3: [27900/50000] Loss: 0.635\n",
            "Epoch 3: [28800/50000] Loss: 1.122\n",
            "Epoch 3: [29700/50000] Loss: 0.702\n",
            "Epoch 3: [30600/50000] Loss: 1.653\n",
            "Epoch 3: [31500/50000] Loss: 1.263\n",
            "Epoch 3: [32400/50000] Loss: 1.398\n",
            "Epoch 3: [33300/50000] Loss: 0.530\n",
            "Epoch 3: [34200/50000] Loss: 0.623\n",
            "Epoch 3: [35100/50000] Loss: 0.519\n",
            "Epoch 3: [36000/50000] Loss: 0.890\n",
            "Epoch 3: [36900/50000] Loss: 0.852\n",
            "Epoch 3: [37800/50000] Loss: 0.839\n",
            "Epoch 3: [38700/50000] Loss: 0.585\n",
            "Epoch 3: [39600/50000] Loss: 1.052\n",
            "Epoch 3: [40500/50000] Loss: 0.754\n",
            "Epoch 3: [41400/50000] Loss: 2.228\n",
            "Epoch 3: [42300/50000] Loss: 2.652\n",
            "Epoch 3: [43200/50000] Loss: 1.072\n",
            "Epoch 3: [44100/50000] Loss: 1.758\n",
            "Epoch 3: [45000/50000] Loss: 1.265\n",
            "Epoch 3: [45900/50000] Loss: 0.751\n",
            "Epoch 3: [46800/50000] Loss: 0.601\n",
            "Epoch 3: [47700/50000] Loss: 1.356\n",
            "Epoch 3: [48600/50000] Loss: 0.988\n",
            "Epoch 3: [49500/50000] Loss: 1.412\n",
            "Test result on epoch 3: total sample: 10000, Avg loss: 0.115, Acc: 64.780%\n",
            "Finished Training after 125.23060941696167 s \n"
          ]
        }
      ],
      "source": [
        "# Train your neural network here.\n",
        "start = time.time()\n",
        "max_epoch = 4\n",
        "net = OurCIFAR_CNN().to(device)\n",
        "optimizer = optim.Adam(net.parameters(), lr=0.001)\n",
        "train_loss = []\n",
        "for epoch in range(max_epoch):\n",
        "    train_loss += train(net, criterion, optimizer, train_loader, epoch)\n",
        "output = test(net, criterion, test_loader, epoch)\n",
        "end = time.time()\n",
        "print(f'Finished Training after {end-start} s ')"
      ]
    },
    {
      "cell_type": "markdown",
      "metadata": {
        "id": "hS1mXr9Cl6pM"
      },
      "source": [
        "## 2.3 - Plot misclassified test images"
      ]
    },
    {
      "cell_type": "code",
      "execution_count": null,
      "metadata": {
        "colab": {
          "base_uri": "https://localhost:8080/",
          "height": 259
        },
        "id": "xd8vWof8nIHw",
        "outputId": "5e9762dd-1451-4222-83c5-1b6af5562054"
      },
      "outputs": [
        {
          "data": {
            "image/png": "[encoded data removed]",
            "text/plain": [
              "<Figure size 1500x1500 with 5 Axes>"
            ]
          },
          "metadata": {},
          "output_type": "display_data"
        }
      ],
      "source": [
        "total_images = 5\n",
        "predictions = output['prediction']\n",
        "targets = torch.tensor(test_set.targets)\n",
        "misclassified = []\n",
        "for class_id in [1, 3, 5, 7, 9]:\n",
        "    class_idx = (targets == class_id).nonzero().squeeze()\n",
        "    misclassified_idx = (predictions[class_idx] != class_id).detach().cpu()\n",
        "    misclassified.append(class_idx[misclassified_idx][0].item())\n",
        "fig, ax = plt.subplots(1, 5, figsize=(15, 15))\n",
        "for i, idx in enumerate(misclassified):\n",
        "    image = test_set[idx][0].permute(1, 2, 0).detach().cpu()\n",
        "    image = image/2 + 0.5\n",
        "    ax[i].imshow(image)\n",
        "    ax[i].set_title(f'True: {classes[targets[idx]]}, Pred: {classes[predictions[idx].int()]}')\n",
        "    ax[i].set_axis_off()\n",
        "fig.show()"
      ]
    },
    {
      "cell_type": "markdown",
      "metadata": {
        "id": "W2ZVJYKtL5yN"
      },
      "source": [
        "Questions (0 points): Are the mis-classified images also misleading to human eyes?"
      ]
    },
    {
      "cell_type": "markdown",
      "metadata": {
        "id": "INN54zXpTcZw"
      },
      "source": [
        "## 3.1 - Load pretrained model"
      ]
    },
    {
      "cell_type": "code",
      "execution_count": null,
      "metadata": {
        "colab": {
          "base_uri": "https://localhost:8080/"
        },
        "id": "KaHP0VfAVuDY",
        "outputId": "935d66b1-2791-4564-951e-2a5307cc1018"
      },
      "outputs": [
        {
          "name": "stderr",
          "output_type": "stream",
          "text": [
            "/usr/local/lib/python3.10/dist-packages/torchvision/models/_utils.py:208: UserWarning: The parameter 'pretrained' is deprecated since 0.13 and may be removed in the future, please use 'weights' instead.\n",
            "  warnings.warn(\n",
            "/usr/local/lib/python3.10/dist-packages/torchvision/models/_utils.py:223: UserWarning: Arguments other than a weight enum or `None` for 'weights' are deprecated since 0.13 and may be removed in the future. The current behavior is equivalent to passing `weights=ResNet18_Weights.IMAGENET1K_V1`. You can also use `weights=ResNet18_Weights.DEFAULT` to get the most up-to-date weights.\n",
            "  warnings.warn(msg)\n",
            "Downloading: \"https://download.pytorch.org/models/resnet18-f37072fd.pth\" to /root/.cache/torch/hub/checkpoints/resnet18-f37072fd.pth\n",
            "100%|██████████| 44.7M/44.7M [00:00<00:00, 123MB/s]\n"
          ]
        }
      ],
      "source": [
        "resnet18 = models.resnet18(pretrained=True)\n",
        "resnet18 = resnet18.to(device)"
      ]
    },
    {
      "cell_type": "markdown",
      "metadata": {
        "id": "MtQkZUZH84q8"
      },
      "source": [
        "## 3.2 - Create data loaders for CIFAR-10"
      ]
    },
    {
      "cell_type": "code",
      "execution_count": null,
      "metadata": {
        "colab": {
          "base_uri": "https://localhost:8080/"
        },
        "id": "lhFys7OQV1Wj",
        "outputId": "66a982f9-1173-4c49-ef97-3345446f3db6"
      },
      "outputs": [
        {
          "name": "stdout",
          "output_type": "stream",
          "text": [
            "Files already downloaded and verified\n",
            "Files already downloaded and verified\n"
          ]
        }
      ],
      "source": [
        "# Create your dataloader here\n",
        "transform = transforms.Compose([transforms.Resize((224, 224)), transforms.ToTensor(), transforms.Normalize((0.5, 0.5, 0.5), (0.5, 0.5, 0.5))])\n",
        "train_set = torchvision.datasets.CIFAR10(root='./data', train=True, download=True, transform=transform)\n",
        "test_set = torchvision.datasets.CIFAR10(root='./data', train=False, download=True, transform=transform)\n",
        "train_loader = torch.utils.data.DataLoader(train_set, batch_size=64, shuffle=True)\n",
        "test_loader = torch.utils.data.DataLoader(test_set, batch_size=1000, shuffle=False)"
      ]
    },
    {
      "cell_type": "markdown",
      "metadata": {
        "id": "k8nR_aBi9Atb"
      },
      "source": [
        "## 3.3 - Classify test data on pretrained model"
      ]
    },
    {
      "cell_type": "code",
      "execution_count": null,
      "metadata": {
        "colab": {
          "base_uri": "https://localhost:8080/"
        },
        "id": "JOuCodyJ4FYp",
        "outputId": "a1b4c07f-eee3-43a9-bff2-41c9b311c3f7"
      },
      "outputs": [
        {
          "name": "stdout",
          "output_type": "stream",
          "text": [
            "Test result on epoch 3: total sample: 10000, Avg loss: 0.012, Acc: 0.030%\n"
          ]
        }
      ],
      "source": [
        "output = test(resnet18, criterion, test_loader, epoch)"
      ]
    },
    {
      "cell_type": "markdown",
      "metadata": {
        "id": "ETLezHR0-ByE"
      },
      "source": [
        "## 3.4 - Fine-tune the pretrained model for CIFAR-10"
      ]
    },
    {
      "cell_type": "code",
      "execution_count": null,
      "metadata": {
        "colab": {
          "base_uri": "https://localhost:8080/"
        },
        "id": "zaA_dukw-hLt",
        "outputId": "77ab922a-d0d9-4a15-941a-3f2025ef5e54"
      },
      "outputs": [
        {
          "name": "stdout",
          "output_type": "stream",
          "text": [
            "Epoch 0: [0/50000] Loss: 10.016\n",
            "Epoch 0: [6400/50000] Loss: 0.523\n",
            "Epoch 0: [12800/50000] Loss: 0.476\n",
            "Epoch 0: [19200/50000] Loss: 0.520\n",
            "Epoch 0: [25600/50000] Loss: 0.597\n",
            "Epoch 0: [32000/50000] Loss: 0.380\n",
            "Epoch 0: [38400/50000] Loss: 0.610\n",
            "Epoch 0: [44800/50000] Loss: 0.549\n",
            "Epoch 1: [0/50000] Loss: 0.248\n",
            "Epoch 1: [6400/50000] Loss: 0.279\n",
            "Epoch 1: [12800/50000] Loss: 0.236\n",
            "Epoch 1: [19200/50000] Loss: 0.184\n",
            "Epoch 1: [25600/50000] Loss: 0.177\n",
            "Epoch 1: [32000/50000] Loss: 0.219\n",
            "Epoch 1: [38400/50000] Loss: 0.263\n",
            "Epoch 1: [44800/50000] Loss: 0.140\n",
            "Epoch 2: [0/50000] Loss: 0.250\n",
            "Epoch 2: [6400/50000] Loss: 0.149\n",
            "Epoch 2: [12800/50000] Loss: 0.202\n",
            "Epoch 2: [19200/50000] Loss: 0.283\n",
            "Epoch 2: [25600/50000] Loss: 0.304\n",
            "Epoch 2: [32000/50000] Loss: 0.321\n",
            "Epoch 2: [38400/50000] Loss: 0.162\n",
            "Epoch 2: [44800/50000] Loss: 0.199\n",
            "Epoch 3: [0/50000] Loss: 0.141\n",
            "Epoch 3: [6400/50000] Loss: 0.205\n",
            "Epoch 3: [12800/50000] Loss: 0.139\n",
            "Epoch 3: [19200/50000] Loss: 0.143\n",
            "Epoch 3: [25600/50000] Loss: 0.172\n",
            "Epoch 3: [32000/50000] Loss: 0.113\n",
            "Epoch 3: [38400/50000] Loss: 0.100\n",
            "Epoch 3: [44800/50000] Loss: 0.230\n",
            "Test result on epoch 3: total sample: 10000, Avg loss: 0.000, Acc: 90.320%\n",
            "Finished Training after 902.6347417831421 s \n"
          ]
        }
      ],
      "source": [
        "# Directly train the whole model.\n",
        "start = time.time()\n",
        "criterion = nn.CrossEntropyLoss()\n",
        "optimizer = optim.Adam(resnet18.parameters(), lr=0.001)\n",
        "max_epoch = 4\n",
        "train_loss = []\n",
        "for epoch in range(max_epoch):\n",
        "    train_loss += train(resnet18, criterion, optimizer, train_loader, epoch)\n",
        "\n",
        "test(resnet18, criterion, test_loader, epoch)\n",
        "end = time.time()\n",
        "print(f'Finished Training after {end-start} s ')"
      ]
    },
    {
      "cell_type": "code",
      "execution_count": null,
      "metadata": {
        "id": "Tx32WC9NyPWU"
      },
      "outputs": [],
      "source": [
        "# Load another resnet18 instance, only unfreeze the outer layers.\n",
        "resnet18 = models.resnet18(pretrained=True)\n",
        "resnet18 = resnet18.to(device)\n",
        "for param in resnet18.parameters():\n",
        "    param.requires_grad = False\n",
        "for param in resnet18.layer4.parameters():\n",
        "    param.requires_grad = True\n",
        "for param in resnet18.fc.parameters():\n",
        "    param.requires_grad = True\n"
      ]
    },
    {
      "cell_type": "code",
      "execution_count": null,
      "metadata": {
        "colab": {
          "base_uri": "https://localhost:8080/"
        },
        "id": "CY-yaF0YAyk7",
        "outputId": "d70dbb45-6488-4b8f-b80f-77400c3982f1"
      },
      "outputs": [
        {
          "name": "stdout",
          "output_type": "stream",
          "text": [
            "Epoch 0: [0/50000] Loss: 10.326\n",
            "Epoch 0: [6400/50000] Loss: 0.379\n",
            "Epoch 0: [12800/50000] Loss: 0.376\n",
            "Epoch 0: [19200/50000] Loss: 0.600\n",
            "Epoch 0: [25600/50000] Loss: 0.504\n",
            "Epoch 0: [32000/50000] Loss: 0.532\n",
            "Epoch 0: [38400/50000] Loss: 0.598\n",
            "Epoch 0: [44800/50000] Loss: 0.278\n",
            "Epoch 1: [0/50000] Loss: 0.200\n",
            "Epoch 1: [6400/50000] Loss: 0.177\n",
            "Epoch 1: [12800/50000] Loss: 0.261\n",
            "Epoch 1: [19200/50000] Loss: 0.263\n",
            "Epoch 1: [25600/50000] Loss: 0.385\n",
            "Epoch 1: [32000/50000] Loss: 0.233\n",
            "Epoch 1: [38400/50000] Loss: 0.391\n",
            "Epoch 1: [44800/50000] Loss: 0.125\n",
            "Epoch 2: [0/50000] Loss: 0.203\n",
            "Epoch 2: [6400/50000] Loss: 0.117\n",
            "Epoch 2: [12800/50000] Loss: 0.056\n",
            "Epoch 2: [19200/50000] Loss: 0.219\n",
            "Epoch 2: [25600/50000] Loss: 0.247\n",
            "Epoch 2: [32000/50000] Loss: 0.052\n",
            "Epoch 2: [38400/50000] Loss: 0.191\n",
            "Epoch 2: [44800/50000] Loss: 0.058\n",
            "Epoch 3: [0/50000] Loss: 0.070\n",
            "Epoch 3: [6400/50000] Loss: 0.131\n",
            "Epoch 3: [12800/50000] Loss: 0.166\n",
            "Epoch 3: [19200/50000] Loss: 0.016\n",
            "Epoch 3: [25600/50000] Loss: 0.028\n",
            "Epoch 3: [32000/50000] Loss: 0.065\n",
            "Epoch 3: [38400/50000] Loss: 0.174\n",
            "Epoch 3: [44800/50000] Loss: 0.042\n",
            "Test result on epoch 0: total sample: 10000, Avg loss: 0.000, Acc: 89.570%\n",
            "Finished Training after 570.821042060852 s \n"
          ]
        }
      ],
      "source": [
        "# Train the model\n",
        "start = time.time()\n",
        "criterion = nn.CrossEntropyLoss()\n",
        "optimizer = optim.Adam(resnet18.parameters(), lr=0.001)\n",
        "max_epoch = 4\n",
        "train_loss = []\n",
        "for epoch in range(max_epoch):\n",
        "    train_loss += train(resnet18, criterion, optimizer, train_loader, epoch)\n",
        "\n",
        "test(resnet18, criterion, test_loader)\n",
        "end = time.time()\n",
        "print(f'Finished Training after {end-start} s ')"
      ]
    }
  ],
  "metadata": {
    "accelerator": "GPU",
    "colab": {
      "gpuType": "T4",
      "provenance": []
    },
    "kernelspec": {
      "display_name": "Python 3",
      "name": "python3"
    },
    "language_info": {
      "codemirror_mode": {
        "name": "ipython",
        "version": 3
      },
      "file_extension": ".py",
      "mimetype": "text/x-python",
      "name": "python",
      "nbconvert_exporter": "python",
      "pygments_lexer": "ipython3",
      "version": "3.9.6"
    },
    "vscode": {
      "interpreter": {
        "hash": "b0fa6594d8f4cbf19f97940f81e996739fb7646882a419484c72d19e05852a7e"
      }
    }
  },
  "nbformat": 4,
  "nbformat_minor": 0
}
